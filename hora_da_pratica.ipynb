{
  "nbformat": 4,
  "nbformat_minor": 0,
  "metadata": {
    "colab": {
      "provenance": [],
      "collapsed_sections": [
        "Mc-KN0dA0Z83",
        "D9e3FqhO1S3X",
        "XGePe4GD2I59",
        "bKdXSK1SH_pF",
        "QTwb6QaCJRdT"
      ],
      "toc_visible": true,
      "include_colab_link": true
    },
    "kernelspec": {
      "name": "python3",
      "display_name": "Python 3"
    },
    "language_info": {
      "name": "python"
    }
  },
  "cells": [
    {
      "cell_type": "markdown",
      "metadata": {
        "id": "view-in-github",
        "colab_type": "text"
      },
      "source": [
        "<a href=\"https://colab.research.google.com/github/Emanuelnabarrete/Python-para-Data-Science-Primeiros-Passos/blob/main/hora_da_pratica.ipynb\" target=\"_parent\"><img src=\"https://colab.research.google.com/assets/colab-badge.svg\" alt=\"Open In Colab\"/></a>"
      ]
    },
    {
      "cell_type": "markdown",
      "source": [
        "# Sobre o notebook\n",
        "\n",
        "A \"hora da prática\" é uma atividade do curso de Python para Data Science da Alura que contém diversos desafios envolvendo os aprendizados de cada aula.\n",
        "\n",
        "O notebook \"hora da pratica\" é um notebook construído com espaço para as células dos desafios propostos no curso, com ele você tem espaço para construir e executar suas soluções"
      ],
      "metadata": {
        "id": "_kwAaQ36gLQ1"
      }
    },
    {
      "cell_type": "markdown",
      "source": [
        "## Aula 1 - Introdução ao Python"
      ],
      "metadata": {
        "id": "Mc-KN0dA0Z83"
      }
    },
    {
      "cell_type": "markdown",
      "source": [
        "### Questão 1\n",
        "\n",
        "Imprima a frase `Escola de Dados da Alura!`"
      ],
      "metadata": {
        "id": "l5eLWf0W0ikn"
      }
    },
    {
      "cell_type": "code",
      "source": [
        "print(\"Escola de dados da alura!\")"
      ],
      "metadata": {
        "id": "5pllxJ0h0-yA",
        "colab": {
          "base_uri": "https://localhost:8080/"
        },
        "outputId": "ee2145d3-9b78-4167-a52c-2e8b64ff2cbb"
      },
      "execution_count": null,
      "outputs": [
        {
          "output_type": "stream",
          "name": "stdout",
          "text": [
            "Escola de dados da alura!\n"
          ]
        }
      ]
    },
    {
      "cell_type": "markdown",
      "source": [
        "### Questão 2\n",
        "Imprima na tela seu nome e seu sobrenome seguindo a estrutura abaixo:\n",
        "```\n",
        "Nome: [seu nome]\n",
        "Sobrenome: [seu sobrenome]\n",
        "```\n"
      ],
      "metadata": {
        "id": "tQdX90Ue03c7"
      }
    },
    {
      "cell_type": "code",
      "source": [
        "print(\"Emanuel\"),print(\"Nabarrete\")"
      ],
      "metadata": {
        "id": "RVw5iKn20_Ps",
        "colab": {
          "base_uri": "https://localhost:8080/"
        },
        "outputId": "4368ce43-468d-4094-d1b4-09326c1a593c"
      },
      "execution_count": null,
      "outputs": [
        {
          "output_type": "stream",
          "name": "stdout",
          "text": [
            "Emanuel\n",
            "Nabarrete\n"
          ]
        },
        {
          "output_type": "execute_result",
          "data": {
            "text/plain": [
              "(None, None)"
            ]
          },
          "metadata": {},
          "execution_count": 5
        }
      ]
    },
    {
      "cell_type": "markdown",
      "source": [
        "### Questão 3\n",
        "Imprima o seu primeiro nome letra a letra. Por exemplo, nome é Mirla, então eu obtenho a seguinte saída:\n",
        "```\n",
        "M\n",
        "I\n",
        "R\n",
        "L\n",
        "A\n",
        "```\n"
      ],
      "metadata": {
        "id": "gfg-aiip03vC"
      }
    },
    {
      "cell_type": "code",
      "source": [
        "print(\"e\",\"m\",\"a\")"
      ],
      "metadata": {
        "id": "v5bkrgf60_qx",
        "colab": {
          "base_uri": "https://localhost:8080/"
        },
        "outputId": "f63185aa-a2ff-4e9c-d792-85cc6bb94493"
      },
      "execution_count": null,
      "outputs": [
        {
          "output_type": "stream",
          "name": "stdout",
          "text": [
            "e m a\n"
          ]
        }
      ]
    },
    {
      "cell_type": "markdown",
      "source": [
        "### Questão 4\n",
        "Imprima o dia do seu nascimento em formato `dia mês ano`. Os valores de dia e ano não podem estar entre aspas. O formato deve estar como no exemplo, supondo uma data de aniversário dia 28 de fevereiro de 2003:\n",
        "```\n",
        "28 fevereiro 2003\n",
        "```"
      ],
      "metadata": {
        "id": "oadrJbl704MM"
      }
    },
    {
      "cell_type": "code",
      "source": [
        "print(28, \"Out\", 2003)"
      ],
      "metadata": {
        "id": "cx0KSsrq1ALD",
        "colab": {
          "base_uri": "https://localhost:8080/"
        },
        "outputId": "d8e801f8-0ffa-414e-ae2b-01331d9f5d44"
      },
      "execution_count": null,
      "outputs": [
        {
          "output_type": "stream",
          "name": "stdout",
          "text": [
            "28 Out 2003\n"
          ]
        }
      ]
    },
    {
      "cell_type": "markdown",
      "source": [
        "### Questão 5\n",
        "Imprima em um único print o atual ano que você está fazendo esse curso, o valor do ano deve ser um dado numérico. A saída do print deve ser a seguinte:\n",
        "```\n",
        "Ano atual: [ano]\n",
        "```\n"
      ],
      "metadata": {
        "id": "3RgyMaan04TD"
      }
    },
    {
      "cell_type": "code",
      "execution_count": null,
      "metadata": {
        "id": "UN77EfQ2d36Y",
        "colab": {
          "base_uri": "https://localhost:8080/"
        },
        "outputId": "e6155c0f-1d86-418b-e072-086fdf555bb6"
      },
      "outputs": [
        {
          "output_type": "stream",
          "name": "stdout",
          "text": [
            "ano atual  2023\n"
          ]
        }
      ],
      "source": [
        "print(\"ano atual \" , 2023)"
      ]
    },
    {
      "cell_type": "markdown",
      "source": [
        "## Aula 2 - Manipulando dados no Python"
      ],
      "metadata": {
        "id": "D9e3FqhO1S3X"
      }
    },
    {
      "cell_type": "markdown",
      "source": [
        "### Coleta e amostragem de dados"
      ],
      "metadata": {
        "id": "n6o7C1Ze2cRe"
      }
    },
    {
      "cell_type": "markdown",
      "source": [
        "#### Questão 1\n",
        "Crie um programa que solicite à pessoa usuária digitar seu nome, e imprima “Olá, [nome]!”."
      ],
      "metadata": {
        "id": "sRneWag9PV5Q"
      }
    },
    {
      "cell_type": "code",
      "source": [
        "nome = input(\"Informe seu nome: \")\n",
        "print(f'Olá,{nome}')"
      ],
      "metadata": {
        "id": "dbX1fKqy2HnE",
        "colab": {
          "base_uri": "https://localhost:8080/"
        },
        "outputId": "70fb1208-5334-45bd-94fb-0deb8442d541"
      },
      "execution_count": null,
      "outputs": [
        {
          "output_type": "stream",
          "name": "stdout",
          "text": [
            "Informe seu nome: Emanuel\n",
            "Olá,Emanuel\n"
          ]
        }
      ]
    },
    {
      "cell_type": "markdown",
      "source": [
        "#### Questão 2\n",
        "Crie um programa que solicite à pessoa usuária digitar seu nome e idade, e imprima “Olá, [nome], você tem [idade] anos.”."
      ],
      "metadata": {
        "id": "BJ1SznEp70d5"
      }
    },
    {
      "cell_type": "code",
      "source": [
        "nome = input(\"Informe seu nome: \")\n",
        "idade = int(input(\"Sua idade: \"))\n",
        "print(f'Olá, {nome}, você tem {idade} anos né')"
      ],
      "metadata": {
        "id": "jKz-0Sq8PFkp",
        "colab": {
          "base_uri": "https://localhost:8080/"
        },
        "outputId": "4ba28573-6f1a-4473-8c9c-3e0b496d17b6"
      },
      "execution_count": null,
      "outputs": [
        {
          "output_type": "stream",
          "name": "stdout",
          "text": [
            "Informe seu nome: Emanuel\n",
            "Sua idade: 10\n",
            "Olá, Emanuel, você tem 10 anos né\n"
          ]
        }
      ]
    },
    {
      "cell_type": "markdown",
      "source": [
        "#### Questão 3\n",
        "Crie um programa que solicite à pessoa usuária digitar seu nome, idade e altura em metros, e imprima “Olá, [nome], você tem [idade] anos e mede [altura] metros!”."
      ],
      "metadata": {
        "id": "2T0jNYZt70aa"
      }
    },
    {
      "cell_type": "code",
      "source": [
        "nome = input(\"Informe seu nome: \")\n",
        "idade = int(input(\"Sua idade: \"))\n",
        "altura = float(input(\"Sua altura: \"))\n",
        "print(f'Olá, {nome}, você tem {idade} anos né e tem {altura} , que alto né')"
      ],
      "metadata": {
        "id": "pI4kHNzTPIXh",
        "colab": {
          "base_uri": "https://localhost:8080/"
        },
        "outputId": "255bf1f3-6024-42db-a396-c05d644761fc"
      },
      "execution_count": null,
      "outputs": [
        {
          "output_type": "stream",
          "name": "stdout",
          "text": [
            "Informe seu nome: emanuel\n",
            "Sua idade: 10\n",
            "Sua altura: 1.87\n",
            "Olá, emanuel, você tem 10 anos né e tem 1.87 , que alto né\n"
          ]
        }
      ]
    },
    {
      "cell_type": "markdown",
      "source": [
        "### Calculadora com operadores"
      ],
      "metadata": {
        "id": "mEBFwKkC70KP"
      }
    },
    {
      "cell_type": "markdown",
      "source": [
        "#### Questão 1\n",
        "\n",
        "Crie um programa que solicite dois valores numéricos à pessoa usuária e imprima a soma dos dois valores."
      ],
      "metadata": {
        "id": "H-IV1oAPPSqK"
      }
    },
    {
      "cell_type": "code",
      "source": [
        "a = float(input(\"valor a= \"))\n",
        "b= float(input(\"valor b= \"))\n",
        "print(a+b)"
      ],
      "metadata": {
        "id": "Zb0W84sy8rnp",
        "colab": {
          "base_uri": "https://localhost:8080/"
        },
        "outputId": "2faec696-6c53-45f6-c542-19acd6b25a68"
      },
      "execution_count": null,
      "outputs": [
        {
          "output_type": "stream",
          "name": "stdout",
          "text": [
            "valor a= 5\n",
            "valor b= 5\n",
            "10.0\n"
          ]
        }
      ]
    },
    {
      "cell_type": "markdown",
      "source": [
        "#### Questão 2\n",
        "Crie um programa que solicite três valores numéricos à pessoa usuária e imprima a soma dos três valores."
      ],
      "metadata": {
        "id": "LUoi2MOu70Em"
      }
    },
    {
      "cell_type": "code",
      "source": [
        "a = float(input(\"valor a= \"))\n",
        "b= float(input(\"valor b= \"))\n",
        "c = float(input(\"valor c= \"))\n",
        "print(a+b+c)"
      ],
      "metadata": {
        "id": "4FYjWyBS8rDm",
        "colab": {
          "base_uri": "https://localhost:8080/"
        },
        "outputId": "1ce67454-2212-4da1-9b95-67eb964b8873"
      },
      "execution_count": null,
      "outputs": [
        {
          "output_type": "stream",
          "name": "stdout",
          "text": [
            "valor a= 5\n",
            "valor b= 5\n",
            "valor c= 5\n",
            "15.0\n"
          ]
        }
      ]
    },
    {
      "cell_type": "markdown",
      "source": [
        "#### Questão 3\n",
        "Crie um programa que solicite dois valores numéricos à pessoa usuária e imprima a subtração do primeiro pelo o segundo valor."
      ],
      "metadata": {
        "id": "lezGctF07z8i"
      }
    },
    {
      "cell_type": "code",
      "source": [
        "a = float(input(\"valor a= \"))\n",
        "b= float(input(\"valor b= \"))\n",
        "print(a-b)"
      ],
      "metadata": {
        "id": "k0GE1z4w8p3J",
        "colab": {
          "base_uri": "https://localhost:8080/"
        },
        "outputId": "7dfeefe9-6fb0-492a-e780-18cae96b8b34"
      },
      "execution_count": null,
      "outputs": [
        {
          "output_type": "stream",
          "name": "stdout",
          "text": [
            "valor a= 7\n",
            "valor b= 2\n",
            "5.0\n"
          ]
        }
      ]
    },
    {
      "cell_type": "markdown",
      "source": [
        "#### Questão 4\n",
        "\n",
        "Crie um programa que solicite dois valores numéricos à pessoa usuária e imprima a multiplicação dos dois valores.\n"
      ],
      "metadata": {
        "id": "wwMP-dPU7zxW"
      }
    },
    {
      "cell_type": "code",
      "source": [
        "a = float(input(\"valor a= \"))\n",
        "b= float(input(\"valor b= \"))\n",
        "print(a*b)"
      ],
      "metadata": {
        "id": "GzFCVHfp8peZ",
        "colab": {
          "base_uri": "https://localhost:8080/"
        },
        "outputId": "dae71ec6-037f-4e89-a23f-257bce5afad6"
      },
      "execution_count": null,
      "outputs": [
        {
          "output_type": "stream",
          "name": "stdout",
          "text": [
            "valor a= 5\n",
            "valor b= 5\n",
            "25.0\n"
          ]
        }
      ]
    },
    {
      "cell_type": "markdown",
      "source": [
        "#### Questão 5\n",
        "\n",
        "Crie um programa que solicite dois valores numéricos, um numerador e um denominador, e realize a divisão entre os dois valores. Deixe claro que o valor do denominador não pode ser `0`.\n"
      ],
      "metadata": {
        "id": "9kxyHxUo7zRD"
      }
    },
    {
      "cell_type": "code",
      "source": [
        "a = float(input(\"valor numerador= \"))\n",
        "b= float(input(\"valor denominador(NAO PODE SER 0)= \"))\n",
        "print(a/b)"
      ],
      "metadata": {
        "id": "ytJ8l5KH8ozc",
        "colab": {
          "base_uri": "https://localhost:8080/"
        },
        "outputId": "cfd7b7a1-7642-4594-8094-bd77c3fdd0de"
      },
      "execution_count": null,
      "outputs": [
        {
          "output_type": "stream",
          "name": "stdout",
          "text": [
            "valor numerador= 5\n",
            "valor denominador(NAO PODE SER 0)= 2\n",
            "2.5\n"
          ]
        }
      ]
    },
    {
      "cell_type": "markdown",
      "source": [
        "#### Questão 6\n",
        "\n",
        "Crie um programa que solicite dois valores numéricos, um operador e uma potência, e realize a exponenciação entre esses dois valores.\n"
      ],
      "metadata": {
        "id": "zkUSBTQq8Hxt"
      }
    },
    {
      "cell_type": "code",
      "source": [
        "a = float(input(\"valor a= \"))\n",
        "b= float(input(\"valor b= \"))\n",
        "print(a**b)"
      ],
      "metadata": {
        "id": "RPj36jq08oZp",
        "colab": {
          "base_uri": "https://localhost:8080/"
        },
        "outputId": "0802c7dc-6614-4581-d7fb-8502a882de4c"
      },
      "execution_count": null,
      "outputs": [
        {
          "output_type": "stream",
          "name": "stdout",
          "text": [
            "valor a= 2\n",
            "valor b= 3\n",
            "8.0\n"
          ]
        }
      ]
    },
    {
      "cell_type": "markdown",
      "source": [
        "#### Questão 7\n",
        "Crie um programa que solicite dois valores numéricos, um numerador e um denominador e realize a divisão inteira entre os dois valores. Deixe claro que o valor do denominador não pode ser `0`."
      ],
      "metadata": {
        "id": "yiunIusZ8Huj"
      }
    },
    {
      "cell_type": "code",
      "source": [
        "a = float(input(\"valor numerador= \"))\n",
        "b= float(input(\"valor denominador(NAO PODE SER 0)= \"))\n",
        "print(a//b)"
      ],
      "metadata": {
        "id": "UHK8xITf8oCg",
        "colab": {
          "base_uri": "https://localhost:8080/"
        },
        "outputId": "6f0062ce-3e9c-420a-c8ed-f4c34fd81722"
      },
      "execution_count": null,
      "outputs": [
        {
          "output_type": "stream",
          "name": "stdout",
          "text": [
            "valor numerador= 5\n",
            "valor denominador(NAO PODE SER 0)= 2\n",
            "2.0\n"
          ]
        }
      ]
    },
    {
      "cell_type": "markdown",
      "source": [
        "#### Questão 8\n",
        "\n",
        "Crie um programa que solicite dois valores numéricos, um numerador e um denominador, e retorne o resto da divisão entre os dois valores. Deixe claro que o valor do denominador não pode ser `0`."
      ],
      "metadata": {
        "id": "z_D_JiLX8Hra"
      }
    },
    {
      "cell_type": "code",
      "source": [
        "a = float(input(\"valor numerador= \"))\n",
        "b= float(input(\"valor denominador(NAO PODE SER 0)= \"))\n",
        "print(a%b)"
      ],
      "metadata": {
        "id": "EWGJeukO8nqx",
        "colab": {
          "base_uri": "https://localhost:8080/"
        },
        "outputId": "c5171f6b-e1be-4bd1-c8f4-103094fb035c"
      },
      "execution_count": null,
      "outputs": [
        {
          "output_type": "stream",
          "name": "stdout",
          "text": [
            "valor numerador= 4\n",
            "valor denominador(NAO PODE SER 0)= 2\n",
            "0.0\n"
          ]
        }
      ]
    },
    {
      "cell_type": "markdown",
      "source": [
        "#### Questão 9\n",
        "\n",
        "Crie um código que solicita 3 notas de um estudante e imprima a média das notas."
      ],
      "metadata": {
        "id": "RDRajNkU8N8N"
      }
    },
    {
      "cell_type": "code",
      "source": [
        "a = float(input(\"valor a= \"))\n",
        "b= float(input(\"valor b= \"))\n",
        "c = float(input(\"valor c= \"))\n",
        "print((a+b+c)/3)"
      ],
      "metadata": {
        "id": "H6F4Ojzt8nSR",
        "colab": {
          "base_uri": "https://localhost:8080/"
        },
        "outputId": "f9535ad6-b77d-46f6-93b1-1015b24f3b7a"
      },
      "execution_count": null,
      "outputs": [
        {
          "output_type": "stream",
          "name": "stdout",
          "text": [
            "valor a= 5\n",
            "valor b= 5\n",
            "valor c= 5\n",
            "5.0\n"
          ]
        }
      ]
    },
    {
      "cell_type": "markdown",
      "source": [
        "#### Questão 10\n",
        "\n",
        "Crie um código que calcule e imprima a média ponderada dos números 5, 12, 20 e 15 com pesos respectivamente iguais a 1, 2, 3 e 4."
      ],
      "metadata": {
        "id": "d7fjkne58N21"
      }
    },
    {
      "cell_type": "code",
      "source": [
        "media_ponderada = (5*1 + 12*2 + 20*3 + 15*4) / (1+2+3+4)\n",
        "print(f'Média {media_ponderada}.')"
      ],
      "metadata": {
        "colab": {
          "base_uri": "https://localhost:8080/"
        },
        "id": "18zdXlQ2Imd1",
        "outputId": "20de9bdf-2eed-4de6-8ec9-c04200f2835b"
      },
      "execution_count": null,
      "outputs": [
        {
          "output_type": "stream",
          "name": "stdout",
          "text": [
            "Média 14.9.\n"
          ]
        }
      ]
    },
    {
      "cell_type": "code",
      "source": [
        "media_pond = (5*1 + 12 *2 + 20 * 3 + 15 * 4)/ (1+2+3+4)\n",
        "print(f'Media {media_pond}')"
      ],
      "metadata": {
        "id": "fwjoHlV48mkv",
        "colab": {
          "base_uri": "https://localhost:8080/"
        },
        "outputId": "099275d1-b93d-4bd8-ef47-367e994ecbf8"
      },
      "execution_count": null,
      "outputs": [
        {
          "output_type": "stream",
          "name": "stdout",
          "text": [
            "Media 14.9\n"
          ]
        }
      ]
    },
    {
      "cell_type": "markdown",
      "source": [
        "### Editando textos"
      ],
      "metadata": {
        "id": "GNmbX1OU8N0V"
      }
    },
    {
      "cell_type": "markdown",
      "source": [
        "#### Questão 1\n",
        "\n",
        "Crie uma variável chamada “`frase`” e atribua a ela uma string de sua escolha. Em seguida, imprima a frase na tela."
      ],
      "metadata": {
        "id": "6wZ85mCsRCV0"
      }
    },
    {
      "cell_type": "code",
      "source": [
        "texto = 'oi'\n",
        "print(texto)"
      ],
      "metadata": {
        "id": "eRqr_gh-8mFy",
        "colab": {
          "base_uri": "https://localhost:8080/"
        },
        "outputId": "17446bce-eaaf-4fc2-b2ac-3e2682fedcd1"
      },
      "execution_count": null,
      "outputs": [
        {
          "output_type": "stream",
          "name": "stdout",
          "text": [
            "oi\n"
          ]
        }
      ]
    },
    {
      "cell_type": "markdown",
      "source": [
        "#### Questão 2\n",
        "Crie um código que solicite uma frase e depois imprima a frase na tela."
      ],
      "metadata": {
        "id": "Aac17z-18Nwv"
      }
    },
    {
      "cell_type": "code",
      "source": [
        "texto = input('Informe seu nome')\n",
        "print(f'ola {texto}')"
      ],
      "metadata": {
        "colab": {
          "base_uri": "https://localhost:8080/"
        },
        "id": "5n9ytjxbJNA1",
        "outputId": "94808d1c-2438-4534-c8a5-39face0c695e"
      },
      "execution_count": null,
      "outputs": [
        {
          "output_type": "stream",
          "name": "stdout",
          "text": [
            "Informe seu nomeEmanuel\n",
            "ola Emanuel\n"
          ]
        }
      ]
    },
    {
      "cell_type": "markdown",
      "source": [
        "#### Questão 3\n",
        "\n",
        "Crie um código que solicite uma frase à pessoa usuária e imprima a mesma frase digitada mas com todas as letras maiúsculas."
      ],
      "metadata": {
        "id": "DXVzqpN58Ntr"
      }
    },
    {
      "cell_type": "code",
      "source": [
        "texto = input('Informe seu nome')\n",
        "print(f'ola {texto.upper()}')"
      ],
      "metadata": {
        "id": "8zfE2hh98lb0",
        "colab": {
          "base_uri": "https://localhost:8080/"
        },
        "outputId": "f730a939-cceb-4551-c273-f50ea5779a09"
      },
      "execution_count": null,
      "outputs": [
        {
          "output_type": "stream",
          "name": "stdout",
          "text": [
            "Informe seu nomeEmanuel\n",
            "ola EMANUEL\n"
          ]
        }
      ]
    },
    {
      "cell_type": "code",
      "source": [],
      "metadata": {
        "id": "d0VzoYP68k-I"
      },
      "execution_count": null,
      "outputs": []
    },
    {
      "cell_type": "markdown",
      "source": [
        "#### Questão 4\n",
        "\n",
        "Crie um código que solicite uma frase à pessoa usuária e imprima a mesma frase digitada mas com todas as letras minúsculas."
      ],
      "metadata": {
        "id": "I12VeNPK8Nqb"
      }
    },
    {
      "cell_type": "code",
      "source": [
        "texto = input('Informe seu nome')\n",
        "print(f'ola {texto.lower()}')"
      ],
      "metadata": {
        "id": "KD8rNy2K8kox",
        "colab": {
          "base_uri": "https://localhost:8080/"
        },
        "outputId": "a585fb71-0c27-4b30-cdc2-07f3ba8fe33d"
      },
      "execution_count": null,
      "outputs": [
        {
          "output_type": "stream",
          "name": "stdout",
          "text": [
            "Informe seu nomeEManuel\n",
            "ola emanuel\n"
          ]
        }
      ]
    },
    {
      "cell_type": "markdown",
      "source": [
        "#### Questão 5\n",
        "\n",
        "Crie uma variável chamada “`frase`” e atribua a ela uma string de sua escolha. Em seguida, imprima a frase sem espaços em branco no início e no fim."
      ],
      "metadata": {
        "id": "cRqngSE48Nog"
      }
    },
    {
      "cell_type": "code",
      "source": [
        "frase = \" ola meu amigo \"\n",
        "print(frase.strip())"
      ],
      "metadata": {
        "id": "aSCpdF-o8kBs",
        "colab": {
          "base_uri": "https://localhost:8080/"
        },
        "outputId": "68dcaa71-30e8-42f0-b72e-59dd9c45a769"
      },
      "execution_count": null,
      "outputs": [
        {
          "output_type": "stream",
          "name": "stdout",
          "text": [
            "ola meu amigo\n"
          ]
        }
      ]
    },
    {
      "cell_type": "markdown",
      "source": [
        "#### Questão 6\n",
        "\n",
        "Crie um código que solicite uma frase à pessoa usuária e imprima a mesma frase sem espaços em branco no início e no fim."
      ],
      "metadata": {
        "id": "murIazpQ8Nkv"
      }
    },
    {
      "cell_type": "code",
      "source": [
        "texto = input('Informe seu nome')\n",
        "print(f'ola {texto.strip()}')"
      ],
      "metadata": {
        "id": "tHunjwuG8jNq",
        "colab": {
          "base_uri": "https://localhost:8080/"
        },
        "outputId": "05013575-dbee-4bc5-cf69-05b27157a762"
      },
      "execution_count": null,
      "outputs": [
        {
          "output_type": "stream",
          "name": "stdout",
          "text": [
            "Informe seu nome Emanuel\n",
            "ola Emanuel\n"
          ]
        }
      ]
    },
    {
      "cell_type": "markdown",
      "source": [
        "#### Questão 7\n",
        "\n",
        "\n",
        "Crie um código que solicite uma frase à pessoa usuária e imprima a mesma frase sem espaços em branco no início e no fim e em letras minúsculas."
      ],
      "metadata": {
        "id": "eRxc2OeX8Nh2"
      }
    },
    {
      "cell_type": "code",
      "source": [
        "texto = input('Informe seu nome completo')\n",
        "print(f'ola {texto.strip().lower()}')"
      ],
      "metadata": {
        "id": "DYm0_UwS8ih6",
        "colab": {
          "base_uri": "https://localhost:8080/"
        },
        "outputId": "a4a145f6-cddb-4f89-e78a-7627ab352042"
      },
      "execution_count": null,
      "outputs": [
        {
          "output_type": "stream",
          "name": "stdout",
          "text": [
            "Informe seu nome completoEmanuel Nabarrete\n",
            "ola emanuel nabarrete\n"
          ]
        }
      ]
    },
    {
      "cell_type": "markdown",
      "source": [
        "#### Questão 8\n",
        "\n",
        "Crie um código que solicite uma frase à pessoa usuária e imprima a mesma frase com todas as vogais “`e`” trocadas pela letra “`f`”."
      ],
      "metadata": {
        "id": "UKATLavs8NfI"
      }
    },
    {
      "cell_type": "code",
      "source": [
        "texto = input('Informe seu nome')\n",
        "print(f'ola {texto.replace(\"e\" , \"f\")}')"
      ],
      "metadata": {
        "id": "k64C5G5S8iLO",
        "colab": {
          "base_uri": "https://localhost:8080/"
        },
        "outputId": "9a3045cf-b43e-4e1a-a6cb-8726b8e2a0ee"
      },
      "execution_count": null,
      "outputs": [
        {
          "output_type": "stream",
          "name": "stdout",
          "text": [
            "Informe seu nomeEmanuel Nabarrete\n",
            "ola Emanufl Nabarrftf\n"
          ]
        }
      ]
    },
    {
      "cell_type": "markdown",
      "source": [
        "#### Questão 9\n",
        "\n",
        "\n",
        "Crie um código que solicite uma frase à pessoa usuária e imprima a mesma frase com todas as vogais “`a`” trocadas pela caractere  “`@`”."
      ],
      "metadata": {
        "id": "n_1SPchw8NdG"
      }
    },
    {
      "cell_type": "code",
      "source": [
        "texto = input('Informe seu nome')\n",
        "print(f'ola {texto.replace(\"a\" , \"@\")}')"
      ],
      "metadata": {
        "id": "msaDNm_p8h0D",
        "colab": {
          "base_uri": "https://localhost:8080/"
        },
        "outputId": "e5c6cbba-3508-4ac3-bd72-7f963a0fdf25"
      },
      "execution_count": null,
      "outputs": [
        {
          "output_type": "stream",
          "name": "stdout",
          "text": [
            "Informe seu nomeEmanuel Nabarrete\n",
            "ola Em@nuel N@b@rrete\n"
          ]
        }
      ]
    },
    {
      "cell_type": "markdown",
      "source": [
        "#### Questão 10\n",
        "\n",
        "\n",
        "Crie um código que solicite uma frase à pessoa usuária e imprima a mesma frase com todas as consoantes “`s`” trocadas pelo caractere  “`$`”."
      ],
      "metadata": {
        "id": "H3sTTjqI8Naa"
      }
    },
    {
      "cell_type": "code",
      "source": [
        "texto = input('Informe seu nome')\n",
        "print(f'ola {texto.replace(\"S\" , \"$\")}')"
      ],
      "metadata": {
        "id": "RPBIsWT68e-1",
        "colab": {
          "base_uri": "https://localhost:8080/"
        },
        "outputId": "841124cf-bf95-4a6d-ba81-f79c7efc34a4"
      },
      "execution_count": null,
      "outputs": [
        {
          "output_type": "stream",
          "name": "stdout",
          "text": [
            "Informe seu nomeEmanuel Souza\n",
            "ola Emanuel $ouza\n"
          ]
        }
      ]
    },
    {
      "cell_type": "markdown",
      "source": [
        "## Aula 3 - Estruturas condicionais"
      ],
      "metadata": {
        "id": "XGePe4GD2I59"
      }
    },
    {
      "cell_type": "markdown",
      "source": [
        "### Aquecendo na programação"
      ],
      "metadata": {
        "id": "Pr9HTW0UHCdD"
      }
    },
    {
      "cell_type": "markdown",
      "source": [
        "#### Questão 1\n",
        "Escreva um programa que peça à pessoa usuária para fornecer dois números e exibir o número maior."
      ],
      "metadata": {
        "id": "xBZHqhVg80Fy"
      }
    },
    {
      "cell_type": "code",
      "source": [
        "num_1 = int(input(\"informe a: \"))\n",
        "num_2 = int(input(\"informe b: \"))\n",
        "\n",
        "if num_1 > num_2:\n",
        "  print(\"Num1 é maior q num2\")\n",
        "elif num_1 == num_2:\n",
        "  print(\"São iguais\")\n",
        "else:\n",
        "  print(\"Num2 é maior que num1\")"
      ],
      "metadata": {
        "id": "GJlGnzjc-xyF",
        "colab": {
          "base_uri": "https://localhost:8080/"
        },
        "outputId": "2cac64b9-0a1c-4e69-f92b-eeeb044fac89"
      },
      "execution_count": null,
      "outputs": [
        {
          "output_type": "stream",
          "name": "stdout",
          "text": [
            "informe a: 4\n",
            "informe b: 7\n",
            "Num2 é maior que num1\n"
          ]
        }
      ]
    },
    {
      "cell_type": "markdown",
      "source": [
        "#### Questão 2\n",
        "Escreva um programa que solicite o percentual de crescimento de produção de uma empresa e informe se houve um crescimento (porcentagem positiva) ou decrescimento (porcentagem negativa)."
      ],
      "metadata": {
        "id": "H4sgN7dyHNJF"
      }
    },
    {
      "cell_type": "code",
      "source": [
        "num_1 = int(input(\"informe a: \"))\n",
        "if num_1 > 0:\n",
        "  print(\"creceu\")\n",
        "else:\n",
        "  print(\"n creceu\")"
      ],
      "metadata": {
        "id": "-2_Ry5XJ-yZW",
        "colab": {
          "base_uri": "https://localhost:8080/"
        },
        "outputId": "5b5f97eb-2b1e-4674-f200-e6cd4739b88b"
      },
      "execution_count": null,
      "outputs": [
        {
          "output_type": "stream",
          "name": "stdout",
          "text": [
            "informe a: -3\n",
            "n creceu\n"
          ]
        }
      ]
    },
    {
      "cell_type": "markdown",
      "source": [
        "#### Questão 3\n",
        "Escreva um programa que determine se uma letra fornecida pela pessoa usuária é uma vogal ou consoante."
      ],
      "metadata": {
        "id": "a_mzNOBDHNny"
      }
    },
    {
      "cell_type": "code",
      "source": [
        "letra = input(\"Informe uma letra: \").lower()\n",
        "\n",
        "vogais = 'aeiou'\n",
        "\n",
        "if letra in vogais:\n",
        "  situ = True\n",
        "else:\n",
        "  situ = False\n",
        "\n",
        "print(situ)\n",
        "\n",
        "\n",
        "\n"
      ],
      "metadata": {
        "id": "NbgndVyg-zFJ",
        "colab": {
          "base_uri": "https://localhost:8080/"
        },
        "outputId": "dab622e1-60b8-4504-e7a3-653343ed4048"
      },
      "execution_count": null,
      "outputs": [
        {
          "output_type": "stream",
          "name": "stdout",
          "text": [
            "Informe uma letra: v\n",
            "False\n"
          ]
        }
      ]
    },
    {
      "cell_type": "markdown",
      "source": [
        "#### Questão 4\n",
        "Escreva um programa que leia valores médios de preços de um modelo de carro por 3 anos consecutivos e exiba o valor mais alto e mais baixo entre esses três anos."
      ],
      "metadata": {
        "id": "mofMRjSZHP99"
      }
    },
    {
      "cell_type": "code",
      "source": [
        "carro_2020 = float(input(\"VAlor 2020: \"))\n",
        "carro_2021 = float(input(\"VAlor 2021: \"))\n",
        "carro_2022 = float(input(\"VAlor 2022: \"))\n",
        "\n",
        "\n",
        "\n",
        "if carro_2022 > carro_2021 and carro_2022> carro_2020:\n",
        "   print(\"carro_2022\")\n",
        "if carro_2021 > carro_2022 and carro_2021> carro_2020:\n",
        "  print(\"carro_2021\")\n",
        "if carro_2020 > carro_2021 and carro_2020> carro_2022:\n",
        " print(\"carro_2020\")\n",
        "\n",
        "\n",
        "if carro_2022 < carro_2021 and carro_2022 < carro_2020:\n",
        "   print(\"carro_2022\")\n",
        "if carro_2021 < carro_2022 and carro_2021 < carro_2020:\n",
        "  print(\"carro_2021\")\n",
        "if carro_2020 < carro_2021 and carro_2020 < carro_2022:\n",
        " print(\"carro_2020\")\n",
        "\n"
      ],
      "metadata": {
        "id": "TX--d3k9-02c",
        "colab": {
          "base_uri": "https://localhost:8080/"
        },
        "outputId": "d1b52f42-fd64-4f27-c1e5-a7c0bd9f0d74"
      },
      "execution_count": null,
      "outputs": [
        {
          "output_type": "stream",
          "name": "stdout",
          "text": [
            "VAlor 2020: 4\n",
            "VAlor 2021: 5\n",
            "VAlor 2022: 6\n",
            "carro_2022\n",
            "carro_2020\n"
          ]
        }
      ]
    },
    {
      "cell_type": "markdown",
      "source": [
        "#### Questão 5\n",
        "Escreva um programa que pergunte sobre o preço de três produtos e indique qual é o produto mais barato para comprar."
      ],
      "metadata": {
        "id": "jY5tIwd-HQzc"
      }
    },
    {
      "cell_type": "code",
      "source": [
        "prod_1 = float(input(\"VAlor 1: \"))\n",
        "prod_2 = float(input(\"VAlor 2: \"))\n",
        "prod_3 = float(input(\"VAlor 3: \"))\n",
        "\n",
        "if prod_1 < prod_2 and prod_1 < prod_3:\n",
        "   print(\"prod1\")\n",
        "if prod_2 < prod_1 and prod_2 < prod_3:\n",
        "  print(\"prod2\")\n",
        "if prod_3 < prod_1 and prod_3 < prod_2:\n",
        " print(\"prod3\")"
      ],
      "metadata": {
        "id": "sYqNh9df-0gk",
        "colab": {
          "base_uri": "https://localhost:8080/"
        },
        "outputId": "937163a8-f5a6-4311-da8d-91e33471f3b4"
      },
      "execution_count": null,
      "outputs": [
        {
          "output_type": "stream",
          "name": "stdout",
          "text": [
            "VAlor 1: 1.23\n",
            "VAlor 2: 3.33\n",
            "VAlor 3: 5.67\n",
            "prod1\n"
          ]
        }
      ]
    },
    {
      "cell_type": "markdown",
      "source": [
        "#### Questão 6\n",
        "Escreva um programa que leia três números e os exiba em ordem decrescente."
      ],
      "metadata": {
        "id": "1r6aVxtTHR4E"
      }
    },
    {
      "cell_type": "code",
      "source": [
        "prod1 = float(input(\"VAlor 1: \"))\n",
        "prod2 = float(input(\"VAlor 2: \"))\n",
        "prod3 = float(input(\"VAlor 3: \"))\n",
        "\n",
        "if prod1 > prod2 and prod1 > prod3 and prod2 > prod3:\n",
        "  print(prod1, prod2 , prod3)\n",
        "elif prod1 > prod2 and prod1 > prod3 and prod3 > prod2:\n",
        "  print(prod1, prod3, prod2)\n",
        "if prod2 > prod1 and prod2 > prod3 and prod1 > prod3:\n",
        "  print(prod2, prod1, prod3)\n",
        "elif prod2 > prod1 and prod2 > prod3 and prod3 > prod1:\n",
        "  print(prod2 , prod3, prod1)\n",
        "if prod3 > prod1 and prod3 > prod2 and prod2 > prod1:\n",
        "  print(prod3 , prod2 , prod1)\n",
        "elif prod3 > prod1 and prod3 > prod2 and prod1 > prod2:\n",
        "  print(prod3, prod1 , prod2)\n",
        "\n",
        "\n"
      ],
      "metadata": {
        "id": "ydOCYUMO-0Hk",
        "colab": {
          "base_uri": "https://localhost:8080/"
        },
        "outputId": "7dd922e6-3fc7-4580-a3b8-c21199974cf1"
      },
      "execution_count": null,
      "outputs": [
        {
          "output_type": "stream",
          "name": "stdout",
          "text": [
            "VAlor 1: 3\n",
            "VAlor 2: 2\n",
            "VAlor 3: 9\n",
            "9.0 3.0 2.0\n"
          ]
        }
      ]
    },
    {
      "cell_type": "markdown",
      "source": [
        "#### Questão 7\n",
        "Escreva um programa que pergunte em qual turno a pessoa usuária estuda (\"manhã\", \"tarde\" ou \"noite\") e exiba a mensagem \"Bom Dia!\", \"Boa Tarde!\", \"Boa Noite!\", ou \"Valor Inválido!\", conforme o caso."
      ],
      "metadata": {
        "id": "inW3F-hAHS_X"
      }
    },
    {
      "cell_type": "code",
      "source": [
        "periodo = (input(\"Qual turno voce trabalha: \")).lower()\n",
        "\n",
        "if(periodo == \"manha\"):\n",
        "  print(\"Bom dia\")\n",
        "elif (periodo ==\"tarde\"):\n",
        "  print(\"Boa tarde\")\n",
        "elif(periodo == \"noite\"):\n",
        "  print(\"Boa noite\")\n",
        "else:\n",
        "  print(\"Valor invalido!\")"
      ],
      "metadata": {
        "id": "-_q-Pcr_-zth",
        "colab": {
          "base_uri": "https://localhost:8080/"
        },
        "outputId": "5a2d49a8-9a19-475d-f3ed-b77f5c46cd00"
      },
      "execution_count": null,
      "outputs": [
        {
          "output_type": "stream",
          "name": "stdout",
          "text": [
            "Qual turno voce trabalha: eae\n",
            "Valor invalido!\n"
          ]
        }
      ]
    },
    {
      "cell_type": "markdown",
      "source": [
        "#### Questão 8\n",
        "Escreva um programa que peça um número inteiro à pessoa usuária e determine se ele é par ou ímpar. Dica: Você pode utilizar o operador módulo `%`."
      ],
      "metadata": {
        "id": "NCCPF3QqHTw-"
      }
    },
    {
      "cell_type": "code",
      "source": [
        "prod1 = int(input(\"valor: \"))\n",
        "\n",
        "if prod1 % 2 == 0:\n",
        "  print(\"É par\")\n",
        "else:\n",
        "  print(\"É impar\")"
      ],
      "metadata": {
        "id": "OmZJt1nQ-3e6",
        "colab": {
          "base_uri": "https://localhost:8080/"
        },
        "outputId": "9e1340a8-be8b-4b10-904e-d1880e05295f"
      },
      "execution_count": null,
      "outputs": [
        {
          "output_type": "stream",
          "name": "stdout",
          "text": [
            "valor: 7\n",
            "É impar\n"
          ]
        }
      ]
    },
    {
      "cell_type": "markdown",
      "source": [
        "#### Questão 9\n",
        "Escreva um programa que peça um número à pessoa usuária e informe se ele é inteiro ou decimal."
      ],
      "metadata": {
        "id": "h93Ck1tQHUwE"
      }
    },
    {
      "cell_type": "code",
      "source": [
        "prod1 = float(input(\"Valor 1: \"))\n",
        "\n",
        "if prod1 % 1 ==0:\n",
        "  print(\"Inteiro\")\n",
        "else:\n",
        "  print(\"Decimal\")"
      ],
      "metadata": {
        "id": "sLMlZcx8-20N",
        "colab": {
          "base_uri": "https://localhost:8080/"
        },
        "outputId": "d60fc4fb-61c7-48e3-f020-9af32aedeef5"
      },
      "execution_count": null,
      "outputs": [
        {
          "output_type": "stream",
          "name": "stdout",
          "text": [
            "Valor 1: 6.7\n",
            "Decimal\n"
          ]
        }
      ]
    },
    {
      "cell_type": "markdown",
      "source": [
        "### Momento dos projetos"
      ],
      "metadata": {
        "id": "bKdXSK1SH_pF"
      }
    },
    {
      "cell_type": "markdown",
      "source": [
        "#### Questão 10\n",
        "Um programa deve ser escrito para ler dois números e, em seguida, perguntar à pessoa usuária qual operação ele deseja realizar. O resultado da operação deve incluir informações sobre o número - se é par ou ímpar, positivo ou negativo e inteiro ou decimal."
      ],
      "metadata": {
        "id": "WBlEyyzsHV86"
      }
    },
    {
      "cell_type": "code",
      "source": [
        "a = int(input(\"VAlor 1: \"))\n",
        "b = int(input(\"VAlor 2: \"))\n",
        "\n",
        "ope = input(\"Qual operacao gostaria de fazer: \")\n",
        "\n",
        "if (ope == \"+\"):\n",
        "  result = a+b\n",
        "  print (f\"soma: {result}\")\n",
        "elif (ope == \"-\"):\n",
        "  result = a-b\n",
        "  print (f\"sub: {result}\")\n",
        "elif (ope == \"*\"):\n",
        "  result = a*b\n",
        "  print (f\"mult: {result}\")\n",
        "elif (ope == \"/\"):\n",
        "  result = a/b\n",
        "  print(f\"div {result}\")\n",
        "\n",
        "if result %2 ==0:\n",
        "  print(\"É par\")\n",
        "else:\n",
        "  print(\"É impar\")\n",
        "\n",
        "if result %1 ==0:\n",
        "  print(\"É inteiro\")\n",
        "else:\n",
        "  print(\"É decimal\")\n",
        "\n",
        "if result > 0:\n",
        "  print(\"É positivo\")\n",
        "else:\n",
        "  print(\"É negativo\")\n"
      ],
      "metadata": {
        "id": "3jmahZ0f-2gq",
        "colab": {
          "base_uri": "https://localhost:8080/"
        },
        "outputId": "680cdb28-c12e-4a21-96f0-cd7d0d52b94c"
      },
      "execution_count": null,
      "outputs": [
        {
          "output_type": "stream",
          "name": "stdout",
          "text": [
            "VAlor 1: 8\n",
            "VAlor 2: 15\n",
            "Qual operacao gostaria de fazer: /\n",
            "div 0.5333333333333333\n",
            "É impar\n",
            "É decimal\n",
            "É positivo\n"
          ]
        }
      ]
    },
    {
      "cell_type": "markdown",
      "source": [
        "#### Questão 11\n",
        "Escreva um programa que peça à pessoa usuária três números que representam os lados de um triângulo. O programa deve informar se os valores podem ser utilizados para formar um triângulo e, caso afirmativo, se ele é equilátero, isósceles ou escaleno. Tenha em mente algumas dicas:\n",
        "- Três lados formam um triângulo quando a soma de quaisquer dois lados for maior que o terceiro;\n",
        "- Triângulo Equilátero: três lados iguais;\n",
        "- Triângulo Isósceles: quaisquer dois lados iguais;\n",
        "- Triângulo Escaleno: três lados diferentes;\n"
      ],
      "metadata": {
        "id": "VdnlULxHHW19"
      }
    },
    {
      "cell_type": "code",
      "source": [
        "l1 = float(input(\"VAlor 1: \"))\n",
        "l2 = float(input(\"VAlor 2: \"))\n",
        "l3 = float(input(\"VAlor 3: \"))\n",
        "\n",
        "somaT = l1+l2+l3\n",
        "\n",
        "if somaT > l3:\n",
        "  print(\"É um triangulo!\")\n",
        "\n",
        "if l1 == l2 and l2 == l3:\n",
        "  print(\"E esse triangulo é equilatero\")\n",
        "elif l1 == l2 or l1 ==l3 or l2 == l1 or l2 == l3 or l3 ==l1 or l3 == l2 :\n",
        "  print(\"E esse triangulo é Isosceles\")\n",
        "elif l1 != l2 and l1 !=l3 and l2 != l3 and l2!= l1 and l3!= l2 and l3 != l1:\n",
        "  print(\"E esse tringulo é Escaleno\")\n"
      ],
      "metadata": {
        "id": "0z73sqUO-2Pw",
        "colab": {
          "base_uri": "https://localhost:8080/"
        },
        "outputId": "5e22afe4-e111-4464-d8b2-b18922020468"
      },
      "execution_count": null,
      "outputs": [
        {
          "output_type": "stream",
          "name": "stdout",
          "text": [
            "VAlor 1: 5\n",
            "VAlor 2: 5\n",
            "VAlor 3: 5\n",
            "É um triangulo!\n",
            "E esse triangulo é equilatero\n"
          ]
        }
      ]
    },
    {
      "cell_type": "markdown",
      "source": [
        "#### Questão 12\n",
        "Um estabelecimento está vendendo combustíveis com descontos variados. Para o etanol, se a quantidade comprada for até 15 litros, o desconto será de 2% por litro. Caso contrário, será de 4% por litro. Para o diesel, se a quantidade comprada for até 15 litros, o desconto será de 3% por litro. Caso contrário, será de 5% por litro. O preço do litro de diesel é R\\$ 2,00 e o preço do litro de etanol é R\\$ 1,70. Escreva um programa que leia a quantidade de litros vendidos e o tipo de combustível (E para etanol e D para diesel) e calcule o valor a ser pago pelo cliente. Tenha em mente algumas dicas:\n",
        "\n",
        "- O do valor do desconto será a multiplicação entre preço do litro, quantidade de litros e o valor do desconto.\n",
        "- O valor a ser pago por um cliente será o resultado da multiplicação do preço do litro pela quantidade de litros menos o valor de desconto resultante do cálculo.\n"
      ],
      "metadata": {
        "id": "_PpEpOugHXwZ"
      }
    },
    {
      "cell_type": "code",
      "source": [
        "tipo_Com = input(\"Qual o combustivel? Etanol - E || Diesel - D\")\n",
        "valorT_Litros = int(input(\"Quantos litros foi vendido: \"))\n",
        "\n",
        "\n",
        "\n",
        "if tipo_Com == \"D\":\n",
        "    precoD = 2\n",
        "    if valorT_Litros <=15:\n",
        "      descD = 2  * valorT_Litros *  0.03\n",
        "    else:\n",
        "      descD = 2 * valorT_Litros * 0.05\n",
        "      valorT_pagarD = ((precoD *  valorT_Litros ) - descD)\n",
        "    print(f\"O valor total da compra do Diesel sera de {valorT_pagarD}\")\n",
        "\n",
        "elif tipo_Com ==\"E\":\n",
        "  precoE = 1.70\n",
        "  if valorT_Litros <= 15:\n",
        "    descE = precoE * valorT_Litros * 0.02\n",
        "  else:\n",
        "    descE = precoE * valorT_Litros * 0.04\n",
        "    valorT_pagarE = ((precoE * valorT_Litros) - descE)\n",
        "  print(f\"O valor total da compra do Etanol sera de {valorT_pagarE}\")\n",
        "\n",
        "\n",
        "\n",
        "\n"
      ],
      "metadata": {
        "id": "9izoF-0O-1yD",
        "colab": {
          "base_uri": "https://localhost:8080/"
        },
        "outputId": "9df96f51-a11f-4e09-9e2f-f0a048e793c3"
      },
      "execution_count": null,
      "outputs": [
        {
          "output_type": "stream",
          "name": "stdout",
          "text": [
            "Qual o combustivel? Etanol - E || Diesel - DD\n",
            "Quantos litros foi vendido: 30\n",
            "O valor total da compra do Diesel sera de 57.0\n"
          ]
        }
      ]
    },
    {
      "cell_type": "markdown",
      "source": [
        "#### Questão 13\n",
        "Em uma empresa de venda de imóveis você precisa criar um código que analise os dados de vendas anuais para ajudar a diretoria na tomada de decisão. O código precisa coletar os dados de quantidade de venda durante os anos de 2022 e 2023 e fazer um cálculo de variação percentual. A partir do valor da variação, deve ser enviada às seguintes sugestões:\n",
        "- Para variação acima de 20%: bonificação para o time de vendas.\n",
        "- Para variação entre 2% e 20%: pequena bonificação para time de vendas.\n",
        "- Para variação entre 2% e -10%: planejamento de políticas de incentivo às vendas.\n",
        "- Para bonificações abaixo de -10%: corte de gastos.\n"
      ],
      "metadata": {
        "id": "s_XS_D1WHY2R"
      }
    },
    {
      "cell_type": "code",
      "source": [
        "qnt_vendas22 = int(input(\"Informe a quantidade de vendas de 2022:\"))\n",
        "qnt_vendas23 = int(input(\"Informe a quantidade de vendas de 2023:\"))\n",
        "\n",
        "variacao_Perce = ((qnt_vendas23 - qnt_vendas22)/ qnt_vendas22) * 100\n",
        "print(variacao_Perce)\n",
        "\n",
        "\n",
        "if variacao_Perce >=20:\n",
        "  print(\"bonificação para o time de vendas.\")\n",
        "elif variacao_Perce >=2 and variacao_Perce <=20:\n",
        "  print(\"pequena bonificação para time de vendas.\")\n",
        "elif variacao_Perce <=2 and variacao_Perce <= -10:\n",
        "  print(\"planejamento de políticas de incentivo às vendas.\")\n",
        "elif variacao_Perce >=-10:\n",
        "  print(\"corte de gastos.\")\n",
        "\n",
        "\n",
        "\n",
        "\n",
        "\n"
      ],
      "metadata": {
        "id": "avQrYlUg-w8f",
        "colab": {
          "base_uri": "https://localhost:8080/"
        },
        "outputId": "f17e116c-7553-428d-802a-019b35fa99ea"
      },
      "execution_count": null,
      "outputs": [
        {
          "output_type": "stream",
          "name": "stdout",
          "text": [
            "Informe a quantidade de vendas de 2022:600\n",
            "Informe a quantidade de vendas de 2023:890\n",
            "48.333333333333336\n",
            "bonificação para o time de vendas.\n"
          ]
        }
      ]
    },
    {
      "cell_type": "markdown",
      "source": [
        "## Aula 4 - Estruturas de repetição"
      ],
      "metadata": {
        "id": "AuaWh4-d2Itt"
      }
    },
    {
      "cell_type": "markdown",
      "source": [
        "### Aquecendo na programação"
      ],
      "metadata": {
        "id": "6MSqU0sIJRdD"
      }
    },
    {
      "cell_type": "markdown",
      "source": [
        "#### Questão 1\n",
        "Escreva um programa que peça dois números inteiros e imprima todos os números inteiros entre eles."
      ],
      "metadata": {
        "id": "9eGGyCnAJRdQ"
      }
    },
    {
      "cell_type": "code",
      "source": [
        "inicio = int(input(\"informe a: \"))\n",
        "fim = int(input(\"informe b: \"))\n",
        "if inicio <fim:\n",
        "  while inicio <= fim:\n",
        "    print(inicio)\n",
        "    inicio+=1\n",
        "elif fim < inicio:\n",
        "  while fim <= inicio:\n",
        "    print(fim)\n",
        "    fim+=1\n",
        "else:\n",
        "  print(\"valores iguais\")"
      ],
      "metadata": {
        "id": "ID1oc1hxJRdQ"
      },
      "execution_count": null,
      "outputs": []
    },
    {
      "cell_type": "markdown",
      "source": [
        "#### Questão 2 dificuldade\n",
        "Escreva um programa para calcular quantos dias levará para a colônia de uma bactéria A ultrapassar ou igualar a colônia de uma bactéria B, com base nas taxas de crescimento de 3% e 1,5% respectivamente. Considere que a colônia A inicia com 4 elementos e a colônia B com 10 elementos."
      ],
      "metadata": {
        "id": "mGonEHYCJRdR"
      }
    },
    {
      "cell_type": "code",
      "source": [
        "colo_A = 4\n",
        "colo_B = 10\n",
        "\n",
        "porcen_A = 0.03\n",
        "porcen_B = 0.015\n",
        "\n",
        "dia =1\n",
        "\n",
        "while colo_A <=colo_B:\n",
        "  colo_A*=1 + porcen_A\n",
        "  colo_B*=1 + porcen_B\n",
        "\n",
        "  dia+=1\n",
        "\n",
        "\n",
        "\n",
        "\n",
        "print(f\"Levará {dia} dias\")\n"
      ],
      "metadata": {
        "id": "wM6FJuoqJRdR",
        "colab": {
          "base_uri": "https://localhost:8080/"
        },
        "outputId": "e2a46c47-789a-4e34-873a-97b77c66e9d4"
      },
      "execution_count": null,
      "outputs": [
        {
          "output_type": "stream",
          "name": "stdout",
          "text": [
            "Levará 64 dias\n"
          ]
        }
      ]
    },
    {
      "cell_type": "markdown",
      "source": [
        "#### Questão 3\n",
        "Para tratar uma quantidade de 15 dados de avaliações de pessoas usuárias de um serviço da empresa, precisamos verificar se as notas são válidas. Então, escreva um programa que vai receber a nota de 0 a 5 de todos os dados e verificar se é um valor válido. Caso seja inserido uma nota acima de 5 ou abaixo de 0, repita até que a pessoa usuária insira um valor válido."
      ],
      "metadata": {
        "id": "UiOZRlqoJRdR"
      }
    },
    {
      "cell_type": "code",
      "source": [
        "dados_avaliacao = 15\n",
        "i = 1\n",
        "while i <=dados_avaliacao:\n",
        "  resp = int(input(f\"avaliacao de 0 a 5 cliente {i}: \"))\n",
        "  if resp>=0 and resp  <=5:\n",
        "    i+=1\n",
        "  else:\n",
        "   print(\"ERROR\")\n",
        "print(f\"Respostas:{resp} \")\n"
      ],
      "metadata": {
        "id": "3TUAhCxcJRdR",
        "colab": {
          "base_uri": "https://localhost:8080/",
          "height": 529
        },
        "outputId": "7fbec927-cf39-4728-aa54-ebc94e1b935e"
      },
      "execution_count": null,
      "outputs": [
        {
          "output_type": "stream",
          "name": "stdout",
          "text": [
            "avaliacao de 0 a 5 cliente 1: 4\n",
            "avaliacao de 0 a 5 cliente 2: 7\n",
            "ERROR\n",
            "avaliacao de 0 a 5 cliente 2: 7\n",
            "ERROR\n",
            "avaliacao de 0 a 5 cliente 2: 3\n",
            "avaliacao de 0 a 5 cliente 3: -3\n",
            "ERROR\n"
          ]
        },
        {
          "output_type": "error",
          "ename": "KeyboardInterrupt",
          "evalue": "ignored",
          "traceback": [
            "\u001b[0;31m---------------------------------------------------------------------------\u001b[0m",
            "\u001b[0;31mKeyboardInterrupt\u001b[0m                         Traceback (most recent call last)",
            "\u001b[0;32m<ipython-input-26-a4c9a554b593>\u001b[0m in \u001b[0;36m<cell line: 3>\u001b[0;34m()\u001b[0m\n\u001b[1;32m      2\u001b[0m \u001b[0mi\u001b[0m \u001b[0;34m=\u001b[0m \u001b[0;36m1\u001b[0m\u001b[0;34m\u001b[0m\u001b[0;34m\u001b[0m\u001b[0m\n\u001b[1;32m      3\u001b[0m \u001b[0;32mwhile\u001b[0m \u001b[0mi\u001b[0m \u001b[0;34m<=\u001b[0m\u001b[0mdados_avaliacao\u001b[0m\u001b[0;34m:\u001b[0m\u001b[0;34m\u001b[0m\u001b[0;34m\u001b[0m\u001b[0m\n\u001b[0;32m----> 4\u001b[0;31m   \u001b[0mresp\u001b[0m \u001b[0;34m=\u001b[0m \u001b[0mint\u001b[0m\u001b[0;34m(\u001b[0m\u001b[0minput\u001b[0m\u001b[0;34m(\u001b[0m\u001b[0;34mf\"avaliacao de 0 a 5 cliente {i}: \"\u001b[0m\u001b[0;34m)\u001b[0m\u001b[0;34m)\u001b[0m\u001b[0;34m\u001b[0m\u001b[0;34m\u001b[0m\u001b[0m\n\u001b[0m\u001b[1;32m      5\u001b[0m   \u001b[0;32mif\u001b[0m \u001b[0mresp\u001b[0m  \u001b[0;34m>=\u001b[0m\u001b[0;36m0\u001b[0m \u001b[0;32mand\u001b[0m \u001b[0mresp\u001b[0m  \u001b[0;34m<=\u001b[0m\u001b[0;36m5\u001b[0m\u001b[0;34m:\u001b[0m\u001b[0;34m\u001b[0m\u001b[0;34m\u001b[0m\u001b[0m\n\u001b[1;32m      6\u001b[0m     \u001b[0mi\u001b[0m\u001b[0;34m+=\u001b[0m\u001b[0;36m1\u001b[0m\u001b[0;34m\u001b[0m\u001b[0;34m\u001b[0m\u001b[0m\n",
            "\u001b[0;32m/usr/local/lib/python3.10/dist-packages/ipykernel/kernelbase.py\u001b[0m in \u001b[0;36mraw_input\u001b[0;34m(self, prompt)\u001b[0m\n\u001b[1;32m    849\u001b[0m                 \u001b[0;34m\"raw_input was called, but this frontend does not support input requests.\"\u001b[0m\u001b[0;34m\u001b[0m\u001b[0;34m\u001b[0m\u001b[0m\n\u001b[1;32m    850\u001b[0m             )\n\u001b[0;32m--> 851\u001b[0;31m         return self._input_request(str(prompt),\n\u001b[0m\u001b[1;32m    852\u001b[0m             \u001b[0mself\u001b[0m\u001b[0;34m.\u001b[0m\u001b[0m_parent_ident\u001b[0m\u001b[0;34m,\u001b[0m\u001b[0;34m\u001b[0m\u001b[0;34m\u001b[0m\u001b[0m\n\u001b[1;32m    853\u001b[0m             \u001b[0mself\u001b[0m\u001b[0;34m.\u001b[0m\u001b[0m_parent_header\u001b[0m\u001b[0;34m,\u001b[0m\u001b[0;34m\u001b[0m\u001b[0;34m\u001b[0m\u001b[0m\n",
            "\u001b[0;32m/usr/local/lib/python3.10/dist-packages/ipykernel/kernelbase.py\u001b[0m in \u001b[0;36m_input_request\u001b[0;34m(self, prompt, ident, parent, password)\u001b[0m\n\u001b[1;32m    893\u001b[0m             \u001b[0;32mexcept\u001b[0m \u001b[0mKeyboardInterrupt\u001b[0m\u001b[0;34m:\u001b[0m\u001b[0;34m\u001b[0m\u001b[0;34m\u001b[0m\u001b[0m\n\u001b[1;32m    894\u001b[0m                 \u001b[0;31m# re-raise KeyboardInterrupt, to truncate traceback\u001b[0m\u001b[0;34m\u001b[0m\u001b[0;34m\u001b[0m\u001b[0m\n\u001b[0;32m--> 895\u001b[0;31m                 \u001b[0;32mraise\u001b[0m \u001b[0mKeyboardInterrupt\u001b[0m\u001b[0;34m(\u001b[0m\u001b[0;34m\"Interrupted by user\"\u001b[0m\u001b[0;34m)\u001b[0m \u001b[0;32mfrom\u001b[0m \u001b[0;32mNone\u001b[0m\u001b[0;34m\u001b[0m\u001b[0;34m\u001b[0m\u001b[0m\n\u001b[0m\u001b[1;32m    896\u001b[0m             \u001b[0;32mexcept\u001b[0m \u001b[0mException\u001b[0m \u001b[0;32mas\u001b[0m \u001b[0me\u001b[0m\u001b[0;34m:\u001b[0m\u001b[0;34m\u001b[0m\u001b[0;34m\u001b[0m\u001b[0m\n\u001b[1;32m    897\u001b[0m                 \u001b[0mself\u001b[0m\u001b[0;34m.\u001b[0m\u001b[0mlog\u001b[0m\u001b[0;34m.\u001b[0m\u001b[0mwarning\u001b[0m\u001b[0;34m(\u001b[0m\u001b[0;34m\"Invalid Message:\"\u001b[0m\u001b[0;34m,\u001b[0m \u001b[0mexc_info\u001b[0m\u001b[0;34m=\u001b[0m\u001b[0;32mTrue\u001b[0m\u001b[0;34m)\u001b[0m\u001b[0;34m\u001b[0m\u001b[0;34m\u001b[0m\u001b[0m\n",
            "\u001b[0;31mKeyboardInterrupt\u001b[0m: Interrupted by user"
          ]
        }
      ]
    },
    {
      "cell_type": "markdown",
      "source": [
        "#### Questão 4\n",
        "Desenvolva um programa que leia um conjunto indeterminado de temperaturas em Celsius e faça uma análise. Portanto, escreva um programa que leia temperaturas e informe a média delas. A leitura deve ser encerrada ao ser enviado o valor -273°C."
      ],
      "metadata": {
        "id": "ABv3KObGJRdR"
      }
    },
    {
      "cell_type": "code",
      "source": [
        "cont=0\n",
        "soma =0\n",
        "resp =0\n",
        "while True:\n",
        "  temp = float(input(\"Informe uma temperatura: \"))\n",
        "  if temp != -273:\n",
        "    cont+=1\n",
        "    soma +=temp\n",
        "  else:\n",
        "    print(\"Fim da leitura\")\n",
        "    resp = soma/cont\n",
        "    print(f\"Resposta: {resp}\")\n",
        "    break\n"
      ],
      "metadata": {
        "id": "85tBBj5KJRdS",
        "colab": {
          "base_uri": "https://localhost:8080/"
        },
        "outputId": "08e256c1-2434-45e0-8a0e-a30d0b00c5e7"
      },
      "execution_count": null,
      "outputs": [
        {
          "output_type": "stream",
          "name": "stdout",
          "text": [
            "Informe uma temperatura: 50\n",
            "Informe uma temperatura: 50\n",
            "Informe uma temperatura: -273\n",
            "Fim da leitura\n",
            "Resposta: 50.0\n"
          ]
        }
      ]
    },
    {
      "cell_type": "markdown",
      "source": [
        "#### Questão 5\n",
        "Escreva um programa que calcule o fatorial de um número inteiro fornecido pela pessoa usuária. O fatorial de um número inteiro é a multiplicação desse número por todos os seus antecessores até o número 1. Por exemplo, o fatorial de 5 é 5 x 4 x 3 x 2 x 1 = 120."
      ],
      "metadata": {
        "id": "IjkbAfGcJRdS"
      }
    },
    {
      "cell_type": "code",
      "source": [
        "num = int(input(\"informe um numero: \"))\n",
        "i = 1\n",
        "resp=1\n",
        "for i in range(i, num+1):\n",
        "  resp*=i\n",
        "\n",
        "print(resp)"
      ],
      "metadata": {
        "id": "7RTH8o0HJRdS",
        "colab": {
          "base_uri": "https://localhost:8080/"
        },
        "outputId": "cd7cc5a8-2546-4e5d-858d-cffd55223841"
      },
      "execution_count": null,
      "outputs": [
        {
          "output_type": "stream",
          "name": "stdout",
          "text": [
            "informe um numero: 5\n",
            "120\n"
          ]
        }
      ]
    },
    {
      "cell_type": "markdown",
      "source": [
        "### Momento dos projetos"
      ],
      "metadata": {
        "id": "oGNKuQjsJRdT"
      }
    },
    {
      "cell_type": "markdown",
      "source": [
        "#### Questão 6\n",
        "Escreva um programa que gere a tabuada de um número inteiro de 1 a 10, de acordo com a escolha da pessoa usuária. Como exemplo, para o número 2, a tabuada deve ser mostrada no seguinte formato:\n",
        "```\n",
        "Tabuada do 2:\n",
        "2 x 1 = 2\n",
        "2 x 2 = 4\n",
        "[...]\n",
        "2 x 10 = 20\n",
        "```"
      ],
      "metadata": {
        "id": "ODxaTUYmJRdS"
      }
    },
    {
      "cell_type": "code",
      "source": [
        "num= int(input(\"Informe um numero \"))\n",
        "i=0\n",
        "cont=0\n",
        "\n",
        "while i <=10:\n",
        "  mult = i * num\n",
        "  print(f\"{i} * {num}: {mult}\")\n",
        "  i+=1"
      ],
      "metadata": {
        "id": "lkTlbxPIJRdS",
        "colab": {
          "base_uri": "https://localhost:8080/"
        },
        "outputId": "36be6a2e-86b8-46f4-8a85-ad567afdda17"
      },
      "execution_count": null,
      "outputs": [
        {
          "output_type": "stream",
          "name": "stdout",
          "text": [
            "Informe um numero 0\n",
            "0 * 0: 0\n",
            "1 * 0: 0\n",
            "2 * 0: 0\n",
            "3 * 0: 0\n",
            "4 * 0: 0\n",
            "5 * 0: 0\n",
            "6 * 0: 0\n",
            "7 * 0: 0\n",
            "8 * 0: 0\n",
            "9 * 0: 0\n",
            "10 * 0: 0\n"
          ]
        }
      ]
    },
    {
      "cell_type": "markdown",
      "source": [
        "#### Questão 7\n",
        "Os números primos possuem várias aplicações dentro da Ciência de Dados, por exemplo, na criptografia e segurança. Um número primo é aquele que é divisível apenas por um e por ele mesmo. Faça um programa que peça um número inteiro e determine se ele é ou não um número primo."
      ],
      "metadata": {
        "id": "LeIbnt8VJRdS"
      }
    },
    {
      "cell_type": "code",
      "source": [
        "#se num for divisivel por ele mesmo e por 1 ele é primo\n",
        "\n",
        "num = int(input(\"Informe um numero \"))\n",
        "i = 1\n",
        "cont = 0\n",
        "for i in range (i , num+1):\n",
        "  if  num % i == 0:\n",
        "    cont+=1\n",
        "\n",
        "if cont == 2:\n",
        "  print(\"É primo\")\n",
        "else:\n",
        "  print(\"Não é primo\")\n",
        "\n"
      ],
      "metadata": {
        "id": "2rcNU7twJRdS",
        "colab": {
          "base_uri": "https://localhost:8080/"
        },
        "outputId": "48ebfb04-2870-4284-e232-c0ebcc0caeea"
      },
      "execution_count": null,
      "outputs": [
        {
          "output_type": "stream",
          "name": "stdout",
          "text": [
            "Informe um numero 53\n",
            "É primo\n"
          ]
        }
      ]
    },
    {
      "cell_type": "markdown",
      "source": [
        "#### Questão 8\n",
        "Vamos entender a distribuição de idades de pensionistas de uma empresa de previdência. Escreva um programa que leia as idades de uma quantidade não informada de clientes e mostre a distribuição em intervalos de [0-25], [26-50], [51-75] e [76-100]. Encerre a entrada de dados com um número negativo."
      ],
      "metadata": {
        "id": "QTwb6QaCJRdT"
      }
    },
    {
      "cell_type": "code",
      "source": [
        "while True:\n",
        "  idade = int(input(\"Informe \"))\n",
        "  if idade >=0 and idade <=25:\n",
        "    print(\"Juventude\")\n",
        "    i+=1\n",
        "  elif idade > 25 and idade <=50:\n",
        "    print(\"Adulto\")\n",
        "    i+=1\n",
        "  elif idade > 50 and idade <=75:\n",
        "    print(\"terceira idade\")\n",
        "    i+=1\n",
        "  elif idade > 75 and idade <=100:\n",
        "    print(\"Idoso\")\n",
        "    i+=1\n",
        "  if idade == -1:\n",
        "    print(\"Fim do programa\")\n",
        "    break\n",
        "  else:\n",
        "    print(\"Idade não cadastrada\")\n",
        "    i+=1\n"
      ],
      "metadata": {
        "id": "4IAhaDmYJRdT",
        "colab": {
          "base_uri": "https://localhost:8080/",
          "height": 477
        },
        "outputId": "909f3e93-eb00-4f46-b92c-69b3406abe9e"
      },
      "execution_count": null,
      "outputs": [
        {
          "output_type": "stream",
          "name": "stdout",
          "text": [
            "Informe 101\n",
            "Idade não cadastrada\n",
            "Informe 45\n",
            "Adulto\n",
            "Idade não cadastrada\n"
          ]
        },
        {
          "output_type": "error",
          "ename": "KeyboardInterrupt",
          "evalue": "ignored",
          "traceback": [
            "\u001b[0;31m---------------------------------------------------------------------------\u001b[0m",
            "\u001b[0;31mKeyboardInterrupt\u001b[0m                         Traceback (most recent call last)",
            "\u001b[0;32m<ipython-input-37-0077313ff91d>\u001b[0m in \u001b[0;36m<cell line: 1>\u001b[0;34m()\u001b[0m\n\u001b[1;32m      1\u001b[0m \u001b[0;32mwhile\u001b[0m \u001b[0;32mTrue\u001b[0m\u001b[0;34m:\u001b[0m\u001b[0;34m\u001b[0m\u001b[0;34m\u001b[0m\u001b[0m\n\u001b[0;32m----> 2\u001b[0;31m   \u001b[0midade\u001b[0m \u001b[0;34m=\u001b[0m \u001b[0mint\u001b[0m\u001b[0;34m(\u001b[0m\u001b[0minput\u001b[0m\u001b[0;34m(\u001b[0m\u001b[0;34m\"Informe \"\u001b[0m\u001b[0;34m)\u001b[0m\u001b[0;34m)\u001b[0m\u001b[0;34m\u001b[0m\u001b[0;34m\u001b[0m\u001b[0m\n\u001b[0m\u001b[1;32m      3\u001b[0m   \u001b[0;32mif\u001b[0m \u001b[0midade\u001b[0m \u001b[0;34m>=\u001b[0m\u001b[0;36m0\u001b[0m \u001b[0;32mand\u001b[0m \u001b[0midade\u001b[0m \u001b[0;34m<=\u001b[0m\u001b[0;36m25\u001b[0m\u001b[0;34m:\u001b[0m\u001b[0;34m\u001b[0m\u001b[0;34m\u001b[0m\u001b[0m\n\u001b[1;32m      4\u001b[0m     \u001b[0mprint\u001b[0m\u001b[0;34m(\u001b[0m\u001b[0;34m\"Juventude\"\u001b[0m\u001b[0;34m)\u001b[0m\u001b[0;34m\u001b[0m\u001b[0;34m\u001b[0m\u001b[0m\n\u001b[1;32m      5\u001b[0m     \u001b[0mi\u001b[0m\u001b[0;34m+=\u001b[0m\u001b[0;36m1\u001b[0m\u001b[0;34m\u001b[0m\u001b[0;34m\u001b[0m\u001b[0m\n",
            "\u001b[0;32m/usr/local/lib/python3.10/dist-packages/ipykernel/kernelbase.py\u001b[0m in \u001b[0;36mraw_input\u001b[0;34m(self, prompt)\u001b[0m\n\u001b[1;32m    849\u001b[0m                 \u001b[0;34m\"raw_input was called, but this frontend does not support input requests.\"\u001b[0m\u001b[0;34m\u001b[0m\u001b[0;34m\u001b[0m\u001b[0m\n\u001b[1;32m    850\u001b[0m             )\n\u001b[0;32m--> 851\u001b[0;31m         return self._input_request(str(prompt),\n\u001b[0m\u001b[1;32m    852\u001b[0m             \u001b[0mself\u001b[0m\u001b[0;34m.\u001b[0m\u001b[0m_parent_ident\u001b[0m\u001b[0;34m,\u001b[0m\u001b[0;34m\u001b[0m\u001b[0;34m\u001b[0m\u001b[0m\n\u001b[1;32m    853\u001b[0m             \u001b[0mself\u001b[0m\u001b[0;34m.\u001b[0m\u001b[0m_parent_header\u001b[0m\u001b[0;34m,\u001b[0m\u001b[0;34m\u001b[0m\u001b[0;34m\u001b[0m\u001b[0m\n",
            "\u001b[0;32m/usr/local/lib/python3.10/dist-packages/ipykernel/kernelbase.py\u001b[0m in \u001b[0;36m_input_request\u001b[0;34m(self, prompt, ident, parent, password)\u001b[0m\n\u001b[1;32m    893\u001b[0m             \u001b[0;32mexcept\u001b[0m \u001b[0mKeyboardInterrupt\u001b[0m\u001b[0;34m:\u001b[0m\u001b[0;34m\u001b[0m\u001b[0;34m\u001b[0m\u001b[0m\n\u001b[1;32m    894\u001b[0m                 \u001b[0;31m# re-raise KeyboardInterrupt, to truncate traceback\u001b[0m\u001b[0;34m\u001b[0m\u001b[0;34m\u001b[0m\u001b[0m\n\u001b[0;32m--> 895\u001b[0;31m                 \u001b[0;32mraise\u001b[0m \u001b[0mKeyboardInterrupt\u001b[0m\u001b[0;34m(\u001b[0m\u001b[0;34m\"Interrupted by user\"\u001b[0m\u001b[0;34m)\u001b[0m \u001b[0;32mfrom\u001b[0m \u001b[0;32mNone\u001b[0m\u001b[0;34m\u001b[0m\u001b[0;34m\u001b[0m\u001b[0m\n\u001b[0m\u001b[1;32m    896\u001b[0m             \u001b[0;32mexcept\u001b[0m \u001b[0mException\u001b[0m \u001b[0;32mas\u001b[0m \u001b[0me\u001b[0m\u001b[0;34m:\u001b[0m\u001b[0;34m\u001b[0m\u001b[0;34m\u001b[0m\u001b[0m\n\u001b[1;32m    897\u001b[0m                 \u001b[0mself\u001b[0m\u001b[0;34m.\u001b[0m\u001b[0mlog\u001b[0m\u001b[0;34m.\u001b[0m\u001b[0mwarning\u001b[0m\u001b[0;34m(\u001b[0m\u001b[0;34m\"Invalid Message:\"\u001b[0m\u001b[0;34m,\u001b[0m \u001b[0mexc_info\u001b[0m\u001b[0;34m=\u001b[0m\u001b[0;32mTrue\u001b[0m\u001b[0;34m)\u001b[0m\u001b[0;34m\u001b[0m\u001b[0;34m\u001b[0m\u001b[0m\n",
            "\u001b[0;31mKeyboardInterrupt\u001b[0m: Interrupted by user"
          ]
        }
      ]
    },
    {
      "cell_type": "markdown",
      "source": [
        "#### Questão 9\n",
        "Em uma eleição para gerência em uma empresa com 20 funcionários, existem quatro candidatos. Escreva um programa que calcule o vencedor da eleição. A votação ocorreu da seguinte maneira:\n",
        "- Cada funcionário votou em um dos quatro candidatos (representados pelos números 1, 2, 3 e 4).\n",
        "- Também foram contabilizados os votos nulos (representado pelo número 5) e os votos em branco (representado pelo número 6).\n",
        "\n",
        "Ao final da votação, o programa deve exibir o total de votos para cada candidato, o número de votos nulos e o número de votos em branco. Além disso, deve calcular e exibir a porcentagem de votos nulos em relação ao total de votos e a porcentagem de votos em branco em relação ao total de votos."
      ],
      "metadata": {
        "id": "soJCQVwRJRdT"
      }
    },
    {
      "cell_type": "code",
      "source": [
        "func = 20\n",
        "i=1\n",
        "cont1 = 0\n",
        "cont2 = 0\n",
        "cont3 = 0\n",
        "cont4 = 0\n",
        "cont5 = 0\n",
        "cont6 = 0\n",
        "\n",
        "for i in range(i,func+1):\n",
        "  voto = int(input(\"Vote em seu candidato: 1 | 2 | 3 | 4 | Voto nulo = 5 || voto em branco = 6 \"))\n",
        "  if voto ==1:\n",
        "    cont1+=1\n",
        "  elif voto ==2:\n",
        "    cont2+=1\n",
        "  elif voto ==3:\n",
        "    cont3+=1\n",
        "  elif voto ==4:\n",
        "    cont4+=1\n",
        "  elif voto ==5:\n",
        "    cont5+=1\n",
        "  elif voto ==6:\n",
        "    cont6+=1\n",
        "\n",
        "\n",
        "\n",
        "porc_Nulo = (cont5/func) *100\n",
        "porc_Branco = (cont6/func) *100\n",
        "\n",
        "print(f\"Candidato 1 teve {cont1} votos\")\n",
        "print(f\"Candidato 2 teve {cont2} votos\")\n",
        "print(f\"Candidato 3 teve {cont3} votos\")\n",
        "print(f\"Candidato 4 teve {cont4} votos\")\n",
        "print(f\"Votos nulos foram {cont5}\")\n",
        "print(f\"Votos em branco foram {cont6}\")\n",
        "\n",
        "print(f\"porcentagem de votos nulos {porc_Nulo}\")\n",
        "print(f\"porcentagem de votos Brancos {porc_Branco}\")\n",
        "\n",
        "\n"
      ],
      "metadata": {
        "id": "041EFrgG-4gR",
        "colab": {
          "base_uri": "https://localhost:8080/"
        },
        "outputId": "487ee765-7597-49f2-abcc-2d46e9076fd3"
      },
      "execution_count": null,
      "outputs": [
        {
          "output_type": "stream",
          "name": "stdout",
          "text": [
            "Vote em seu candidato: 1 | 2 | 3 | 4 | Voto nulo = 5 || voto em branco = 6 4\n",
            "Vote em seu candidato: 1 | 2 | 3 | 4 | Voto nulo = 5 || voto em branco = 6 5\n",
            "Vote em seu candidato: 1 | 2 | 3 | 4 | Voto nulo = 5 || voto em branco = 6 5\n",
            "Vote em seu candidato: 1 | 2 | 3 | 4 | Voto nulo = 5 || voto em branco = 6 6\n",
            "Vote em seu candidato: 1 | 2 | 3 | 4 | Voto nulo = 5 || voto em branco = 6 3\n",
            "Vote em seu candidato: 1 | 2 | 3 | 4 | Voto nulo = 5 || voto em branco = 6 4\n",
            "Vote em seu candidato: 1 | 2 | 3 | 4 | Voto nulo = 5 || voto em branco = 6 4\n",
            "Vote em seu candidato: 1 | 2 | 3 | 4 | Voto nulo = 5 || voto em branco = 6 1\n",
            "Vote em seu candidato: 1 | 2 | 3 | 4 | Voto nulo = 5 || voto em branco = 6 2\n",
            "Vote em seu candidato: 1 | 2 | 3 | 4 | Voto nulo = 5 || voto em branco = 6 4\n",
            "Vote em seu candidato: 1 | 2 | 3 | 4 | Voto nulo = 5 || voto em branco = 6 5\n",
            "Vote em seu candidato: 1 | 2 | 3 | 4 | Voto nulo = 5 || voto em branco = 6 6\n",
            "Vote em seu candidato: 1 | 2 | 3 | 4 | Voto nulo = 5 || voto em branco = 6 3\n",
            "Vote em seu candidato: 1 | 2 | 3 | 4 | Voto nulo = 5 || voto em branco = 6 4\n",
            "Vote em seu candidato: 1 | 2 | 3 | 4 | Voto nulo = 5 || voto em branco = 6 5\n",
            "Vote em seu candidato: 1 | 2 | 3 | 4 | Voto nulo = 5 || voto em branco = 6 4\n",
            "Vote em seu candidato: 1 | 2 | 3 | 4 | Voto nulo = 5 || voto em branco = 6 5\n",
            "Vote em seu candidato: 1 | 2 | 3 | 4 | Voto nulo = 5 || voto em branco = 6 1\n",
            "Vote em seu candidato: 1 | 2 | 3 | 4 | Voto nulo = 5 || voto em branco = 6 2\n",
            "Vote em seu candidato: 1 | 2 | 3 | 4 | Voto nulo = 5 || voto em branco = 6 3\n",
            "Candidato 1 teve 2 votos\n",
            "Candidato 2 teve 2 votos\n",
            "Candidato 3 teve 3 votos\n",
            "Candidato 4 teve 6 votos\n",
            "Votos nulos foram 5\n",
            "Votos em branco foram 2\n",
            "porcentagem de votos nulos 25.0\n",
            "porcentagem de votos Brancos 10.0\n"
          ]
        }
      ]
    },
    {
      "cell_type": "markdown",
      "source": [
        "## Aula 5 - Estruturas de dados"
      ],
      "metadata": {
        "id": "eijHQiNU2IZ7"
      }
    },
    {
      "cell_type": "markdown",
      "source": [
        "### Aquecendo na programação"
      ],
      "metadata": {
        "id": "92F0bKtBMgd7"
      }
    },
    {
      "cell_type": "markdown",
      "source": [
        "#### Questão 1\n",
        "Faça um programa que tenha a seguinte lista contendo os valores de gastos de uma empresa de papel `[2172.54, 3701.35, 3518.09, 3456.61, 3249.38, 2840.82, 3891.45, 3075.26, 2317.64, 3219.08]`. Com esses valores, faça um programa que calcule a média de gastos. Dica, use as funções built-in [`sum()`](https://docs.python.org/3/library/functions.html#sum) e [`len()`](https://docs.python.org/3/library/functions.html#len)."
      ],
      "metadata": {
        "id": "IypX2ANuMgeC"
      }
    },
    {
      "cell_type": "code",
      "source": [
        "vlr_gasto = [2172.54, 3701.35, 3518.09, 3456.61, 3249.38, 2840.82, 3891.45, 3075.26, 2317.64, 3219.08]\n",
        "len(vlr_gasto)\n",
        "soma = sum(vlr_gasto)/10\n",
        "print(f\"O gasto medio foi de {soma}\")\n"
      ],
      "metadata": {
        "id": "ge3LuFhLMgeD",
        "colab": {
          "base_uri": "https://localhost:8080/"
        },
        "outputId": "ce320d48-bab3-42bc-c36d-6839991a2c73"
      },
      "execution_count": null,
      "outputs": [
        {
          "output_type": "stream",
          "name": "stdout",
          "text": [
            "O gasto medio foi de 3144.222\n"
          ]
        },
        {
          "output_type": "execute_result",
          "data": {
            "text/plain": [
              "[2172.54,\n",
              " 3701.35,\n",
              " 3518.09,\n",
              " 3456.61,\n",
              " 3249.38,\n",
              " 2840.82,\n",
              " 3891.45,\n",
              " 3075.26,\n",
              " 2317.64,\n",
              " 3219.08]"
            ]
          },
          "metadata": {},
          "execution_count": 45
        }
      ]
    },
    {
      "cell_type": "markdown",
      "source": [
        "#### Questão 2\n",
        " Com os mesmos dados da questão anterior, defina quantas compras foram acima de 3000 reais e calcule a porcentagem quanto ao total de compras."
      ],
      "metadata": {
        "id": "xrOeLhQkMgeD"
      }
    },
    {
      "cell_type": "code",
      "source": [
        "i =0\n",
        "for vlr in vlr_gasto:\n",
        "  if vlr >3000:\n",
        "    i+=1\n",
        "\n",
        "\n",
        "porc = (7/10)*100\n",
        "\n",
        "print(f\"{porc}% das compras foram acima de 3000 reias\")"
      ],
      "metadata": {
        "id": "Ygu5TMZyMgeD",
        "colab": {
          "base_uri": "https://localhost:8080/"
        },
        "outputId": "43f01145-e4a3-44e9-c2de-b8dddee53090"
      },
      "execution_count": null,
      "outputs": [
        {
          "output_type": "stream",
          "name": "stdout",
          "text": [
            "70.0% das compras foram acima de 3000 reias\n"
          ]
        }
      ]
    },
    {
      "cell_type": "markdown",
      "source": [
        "#### Questão 3\n",
        "Faça um código que colete em uma lista 5 números inteiros quaisquer e imprima a lista. Exemplo: `[1,4,7,2,4]`."
      ],
      "metadata": {
        "id": "JgCOrE_BMgeD"
      }
    },
    {
      "cell_type": "code",
      "source": [
        "# Lista que irá armazenar os 5 números inteiros\n",
        "lista_numeros = []\n",
        "\n",
        "# Criamos um laço que vai iterar 5 vezes para receber os 5 números\n",
        "for i in range(0, 5):\n",
        "  # Coletamos o valor e inserimos na lista por 5 vezes\n",
        "  numero = int(input('Digite um número inteiro: '))\n",
        "  lista_numeros.append(numero)\n",
        "#Resultado\n",
        "print(f'Lista de números inseridos: {lista_numeros}')\n"
      ],
      "metadata": {
        "colab": {
          "base_uri": "https://localhost:8080/"
        },
        "id": "Wo6PM2jGQMOJ",
        "outputId": "13bfea27-78fb-412e-d6b6-03792fd7be11"
      },
      "execution_count": null,
      "outputs": [
        {
          "output_type": "stream",
          "name": "stdout",
          "text": [
            "Digite um número inteiro: 1\n",
            "Digite um número inteiro: 1\n",
            "Digite um número inteiro: 1\n",
            "Digite um número inteiro: 1\n",
            "Digite um número inteiro: 1\n",
            "Lista de números inseridos: [1, 1, 1, 1, 1]\n"
          ]
        }
      ]
    },
    {
      "cell_type": "code",
      "source": [
        "lista=[]\n",
        "\n",
        "for i in range(0, 5):\n",
        "  vlr =int(input(\"Informe um valor\"))\n",
        "  lista.append(vlr)\n",
        "\n",
        "\n",
        "print(lista)"
      ],
      "metadata": {
        "id": "vtM9O1hLMgeD",
        "colab": {
          "base_uri": "https://localhost:8080/"
        },
        "outputId": "401d422f-e198-43e6-87f8-afe63e7a034c"
      },
      "execution_count": null,
      "outputs": [
        {
          "output_type": "stream",
          "name": "stdout",
          "text": [
            "Informe um valor1\n",
            "Informe um valor2\n",
            "Informe um valor3\n",
            "Informe um valor4\n",
            "Informe um valor5\n",
            "[1, 2, 3, 4, 5]\n"
          ]
        }
      ]
    },
    {
      "cell_type": "markdown",
      "source": [
        "Questão 4\n",
        "# Colete novamente 5 inteiros e imprima a lista em ordem inversa à enviada. **ESTUDAR MELHOR**"
      ],
      "metadata": {
        "id": "p3bTp88HMgeD"
      }
    },
    {
      "cell_type": "code",
      "source": [
        "lista=[]\n",
        "\n",
        "for i in range(0, 5):\n",
        "  vlr =int(input(\"Informe um valor\"))\n",
        "  lista.append(vlr)\n",
        "\n",
        "\n",
        "print(lista[::-1])"
      ],
      "metadata": {
        "id": "-CGwMIyHMgeD",
        "colab": {
          "base_uri": "https://localhost:8080/"
        },
        "outputId": "b88a6c26-a04a-4794-cd90-d54bcdd634c6"
      },
      "execution_count": null,
      "outputs": [
        {
          "output_type": "stream",
          "name": "stdout",
          "text": [
            "Informe um valor1\n",
            "Informe um valor2\n",
            "Informe um valor3\n",
            "Informe um valor4\n",
            "Informe um valor5\n",
            "[5, 4, 3, 2, 1]\n"
          ]
        }
      ]
    },
    {
      "cell_type": "markdown",
      "source": [
        "#### Questão 5\n",
        "Faça um programa que, ao inserir um número qualquer, criará uma lista contendo todos os números primos entre 1 e o número digitado."
      ],
      "metadata": {
        "id": "eIXd_z1lMgeD"
      }
    },
    {
      "cell_type": "code",
      "source": [
        "#coleta\n",
        "num = int(input(\"Escreva um numero: \"))\n",
        "#lista\n",
        "lista =[]\n",
        "primo = False\n",
        "\n",
        "#For\n",
        "for nummero in range(2, num):\n",
        "  primo = True\n",
        "\n",
        "  for n in range(2, nummero):\n",
        "    if nummero % n == 0:\n",
        "      primo = False\n",
        "      break\n",
        "\n",
        "  if primo:\n",
        "    lista.append(nummero)\n",
        "\n",
        "print(lista)\n",
        "\n",
        "\n",
        "\n"
      ],
      "metadata": {
        "id": "rj_6GHstMgeE",
        "colab": {
          "base_uri": "https://localhost:8080/"
        },
        "outputId": "b2f48254-e9e6-4dc5-ba65-cfc205fbb718"
      },
      "execution_count": null,
      "outputs": [
        {
          "output_type": "stream",
          "name": "stdout",
          "text": [
            "Escreva um numero: 12\n",
            "[2, 3, 5, 7, 11]\n"
          ]
        }
      ]
    },
    {
      "cell_type": "code",
      "source": [
        "#CORRECAO\n",
        "# Coletamos o números\n",
        "numero = int(input('Digite um número inteiro: '))\n",
        "# Lista para receber os números primos\n",
        "lista_primos = []\n",
        "# Laço que vai rodar por todos os números abaixo do número digitado\n",
        "for num in range(2, numero):\n",
        "  # Primo é uma bandeira, ela permite sabermos se o valor analisado é ou não primo\n",
        "  primo = True\n",
        "  # Testamos se todos os números abaixo do especificado no primeiro laço podem\n",
        "  # gerar uma divisão exata\n",
        "  for teste_divisiveis in range(2, num):\n",
        "    if num % teste_divisiveis == 0:\n",
        "      # Caso seja divisivel por algum número entendemos que\n",
        "      # o num não é primo e finalizamos o laço interno com break\n",
        "      primo = False\n",
        "      break\n",
        "  # A condição se torna o resultado booleno de primo: False, ignoramos o condicional\n",
        "  # True, executamos o bloco do if\n",
        "  if primo:\n",
        "    lista_primos.append(num)\n",
        "# Resultado\n",
        "print(f'Lista de números primos: {lista_primos}')\n"
      ],
      "metadata": {
        "colab": {
          "base_uri": "https://localhost:8080/"
        },
        "id": "4Uo7lrk_Nksj",
        "outputId": "a6de2de3-d753-40ff-f41c-eaeeaa10510b"
      },
      "execution_count": null,
      "outputs": [
        {
          "output_type": "stream",
          "name": "stdout",
          "text": [
            "Digite um número inteiro: 12\n",
            "Lista de números primos: [2, 3, 5, 7, 11]\n"
          ]
        }
      ]
    },
    {
      "cell_type": "markdown",
      "source": [
        "#### Questão 6\n",
        "Escreva um programa que peça uma data informando o dia, mês e ano e determine se ela é uma data válida para uma análise."
      ],
      "metadata": {
        "id": "zrbz3ENlMgeE"
      }
    },
    {
      "cell_type": "code",
      "source": [
        "dia = int(input(\"Informe o dia: \"))\n",
        "mes = int(input(\"Informe o mes: \"))\n",
        "ano = int(input(\"Informe o ano: \"))\n",
        "\n",
        "if mes ==2:\n",
        "  if ano% 4 ==0 and(ano %100 !=0 or ano % 400 == 0 ):\n",
        "    dia_Fev = 29\n",
        "  else:\n",
        "    dia_Fev = 28\n",
        "\n",
        "  if dia >=1 and dia <= dia_Fev:\n",
        "    print(\"Data valida\")\n",
        "  else:\n",
        "    print(\"Data invalida\")\n",
        "\n",
        "if mes in [1,3,5,7,8,10,12]:\n",
        "  if dia >=1 and dia <=31:\n",
        "    print(\"Dia valido\")\n",
        "  else:\n",
        "    print(\"valor invalido 31\")\n",
        "\n",
        "elif mes in [4,6,9,11]:\n",
        "  if dia>=1 and dia <=30:\n",
        "    print(\"Dia valido 30\")\n",
        "\n",
        "  else:\n",
        "    print(\"Dia invalido30\")\n",
        "\n",
        "\n"
      ],
      "metadata": {
        "id": "0eYA8UjTMgeE",
        "colab": {
          "base_uri": "https://localhost:8080/"
        },
        "outputId": "0552a301-7f07-4339-c19a-9a9e61516753"
      },
      "execution_count": null,
      "outputs": [
        {
          "output_type": "stream",
          "name": "stdout",
          "text": [
            "Informe o dia: 29\n",
            "Informe o mes: 2\n",
            "Informe o ano: 2016\n",
            "Data valida\n"
          ]
        }
      ]
    },
    {
      "cell_type": "code",
      "source": [
        "# Coletamos a data\n",
        "dia = int(input('Digite o dia: '))\n",
        "mes = int(input('Digite o mês: '))\n",
        "ano = int(input('Digite o ano: '))\n",
        "\n",
        "# Análise de fevereiro\n",
        "if mes == 2:\n",
        "  # Verificamos se é ou não um ano bissexto\n",
        "  if ano % 4 == 0 and (ano % 400 == 0 or ano % 100 != 0):\n",
        "    dias_fevereiro = 29\n",
        "  else:\n",
        "    dias_fevereiro = 28\n",
        "  # Verificamos se o dia colocado corresponde ao máximo de dias de fevereiro\n",
        "  if dia >= 1 and dia <= dias_fevereiro:\n",
        "    print('Data válida')\n",
        "  else:\n",
        "    print('Data inválida')\n",
        "# Verificamos meses terminados em 31 dias\n",
        "elif mes in [1, 3, 5, 7, 8, 10, 12]:\n",
        "  if dia >= 1 and dia <= 31:\n",
        "    print('Data válida')\n",
        "  else:\n",
        "    print('Data inválida')\n",
        "# Verificamos meses terminados em 30 dias\n",
        "elif mes in [4, 6, 9, 11]:\n",
        "  if dia >= 1 and dia <= 30:\n",
        "    print('Data válida')\n",
        "  else:\n",
        "    print('Data inválida')\n",
        "# Caso o mês não esteja entre 1 e 12\n",
        "else:\n",
        "  print('Data inválida')\n"
      ],
      "metadata": {
        "colab": {
          "base_uri": "https://localhost:8080/"
        },
        "id": "OTGfsioyftl0",
        "outputId": "8db16222-8b02-43be-bb44-2b590ab05b9c"
      },
      "execution_count": null,
      "outputs": [
        {
          "output_type": "stream",
          "name": "stdout",
          "text": [
            "Digite o dia: 29\n",
            "Digite o mês: 2\n",
            "Digite o ano: 2016\n",
            "Data válida\n"
          ]
        }
      ]
    },
    {
      "cell_type": "markdown",
      "source": [
        "### Momento dos projetos"
      ],
      "metadata": {
        "id": "ut_4VHdGMgeE"
      }
    },
    {
      "cell_type": "markdown",
      "source": [
        "#### Questão 7\n",
        "Para um estudo envolvendo o nível de multiplicação de bactérias em uma colônia, foi coletado o número de bactérias multiplicadas por dia, com base em um processo de duplicação diária e pode ser observado a seguir: `[1.2, 2.1, 3.3, 5.0, 7.8, 11.3, 16.6, 25.1, 37.8, 56.9]`. Tendo esses valores, faça um código que gere uma lista contendo o percentual de crescimento de bactérias por dia, comparando o número de bactérias em cada dia com o número de bactérias do dia anterior. Dica: para calcular o percentual de crescimento usamos a seguinte equação: `100 * (amostra_atual - amostra_passada) / (amostra_passada)`."
      ],
      "metadata": {
        "id": "G86Z0vD_MgeE"
      }
    },
    {
      "cell_type": "code",
      "source": [
        "lista_bacteria = [1.2, 2.1, 3.3, 5.0, 7.8, 11.3, 16.6, 25.1, 37.8, 56.9]\n",
        "amostra_atual = lista_bacteria[1]\n",
        "amostra_passada = lista_bacteria[0]\n",
        "new_lista = []\n",
        "\n",
        "for i in range(1, len(lista_bacteria)):\n",
        "\n",
        "  calculo = 100 * (lista_bacteria[i] - lista_bacteria[i-1])/(lista_bacteria[i-1])\n",
        "\n",
        "  new_lista.append(calculo)\n",
        "\n",
        "print(new_lista)\n",
        "\n",
        "\n",
        "\n",
        "\n",
        "\n"
      ],
      "metadata": {
        "id": "PXNO_CFkMgeE",
        "colab": {
          "base_uri": "https://localhost:8080/"
        },
        "outputId": "0b1d89d4-700b-4c20-bb51-767d23c82f7b"
      },
      "execution_count": null,
      "outputs": [
        {
          "output_type": "stream",
          "name": "stdout",
          "text": [
            "[75.00000000000001, 57.142857142857125, 51.51515151515153, 56.0, 44.87179487179489, 46.90265486725664, 51.20481927710843, 50.59760956175297, 50.52910052910054]\n"
          ]
        }
      ]
    },
    {
      "cell_type": "code",
      "source": [
        "# Lista de crescimento das bactérias\n",
        "bacterias_colonia = [1.2, 2.1, 3.3, 5.0, 7.8, 11.3, 16.6, 25.1, 37.8, 56.9]\n",
        "# Lista que irá armazenar as porcentagens de crescimento\n",
        "porcentagem_crescimento = []\n",
        "# Vamos percorrer os índices de 1 a 9 para compararmos o valor atual com o passado\n",
        "for i in range(1, len(bacterias_colonia)):\n",
        "  # seguimos o cálculo 100 * (amostra_atual - amostra_passada) / (amostra_passada)\n",
        "  porcentagem = 100 * (bacterias_colonia[i] - bacterias_colonia[i-1]) / (bacterias_colonia[i-1])\n",
        "  # adicionamos o resultado na lista porcentagem_crescimento\n",
        "  porcentagem_crescimento.append(porcentagem)\n",
        "# Resultado\n",
        "print(f'Porcentagens de crescimento:\\n{porcentagem_crescimento}')\n"
      ],
      "metadata": {
        "colab": {
          "base_uri": "https://localhost:8080/"
        },
        "id": "pMMh-y9bjJLt",
        "outputId": "e7df602b-bbd6-4bd6-a997-a63a0dda271c"
      },
      "execution_count": null,
      "outputs": [
        {
          "output_type": "stream",
          "name": "stdout",
          "text": [
            "Porcentagens de crescimento:\n",
            "[75.00000000000001, 57.142857142857125, 51.51515151515153, 56.0, 44.87179487179489, 46.90265486725664, 51.20481927710843, 50.59760956175297, 50.52910052910054]\n"
          ]
        }
      ]
    },
    {
      "cell_type": "markdown",
      "source": [
        "#### Questão 8\n",
        "Para uma seleção de produtos alimentícios, precisamos separar o conjunto de IDs dados por números inteiros, sabendo que os produtos com ID par são doces e os com ID ímpar são amargos. Monte um código que colete 10 IDs. Depois, calcule e mostre a quantidade de produtos doces e amargos."
      ],
      "metadata": {
        "id": "p4nxogpnMgeE"
      }
    },
    {
      "cell_type": "code",
      "source": [
        "sc = 0\n",
        "lista_ID = []\n",
        "for i in range (0, 10):\n",
        "  sc = int(input(\"informe o id; \"))\n",
        "  lista_ID.append(sc)\n",
        "\n",
        "\n",
        "cont_idPar=0\n",
        "cont_idImpar=0\n",
        "\n",
        "for i in range(0, len(lista_ID)):\n",
        "  print(lista_ID[i])\n",
        "  if lista_ID[i] % 2==0:\n",
        "    cont_idPar+=1\n",
        "  else:\n",
        "    cont_idImpar+=1\n",
        "\n",
        "print(f\"Possuem {cont_idPar} ID's doces\")\n",
        "print(f\"Possuem {cont_idImpar} ID's amargos\")\n"
      ],
      "metadata": {
        "id": "WqjO2SZkMgeE",
        "colab": {
          "base_uri": "https://localhost:8080/"
        },
        "outputId": "1706d9e1-2abc-4e6e-cd95-872869eafd0f"
      },
      "execution_count": null,
      "outputs": [
        {
          "output_type": "stream",
          "name": "stdout",
          "text": [
            "informe o id; 1\n",
            "informe o id; 2\n",
            "informe o id; 3\n",
            "informe o id; 4\n",
            "informe o id; 5\n",
            "informe o id; 6\n",
            "informe o id; 7\n",
            "informe o id; 8\n",
            "informe o id; 9\n",
            "informe o id; 1\n",
            "1\n",
            "2\n",
            "3\n",
            "4\n",
            "5\n",
            "6\n",
            "7\n",
            "8\n",
            "9\n",
            "1\n",
            "Possuem 4 ID's doces\n",
            "Possuem 6 ID's amargos\n"
          ]
        }
      ]
    },
    {
      "cell_type": "markdown",
      "source": [
        "#### Questão 9\n",
        "Desenvolva um programa que informa a nota de um aluno de acordo com suas respostas. Ele deve pedir a resposta de um aluno para cada questão e é preciso verificar se a resposta foi igual ao gabarito. Cada questão vale um ponto e existem alternativas:  A, B, C ou D.\n",
        "```\n",
        "Gabarito da Prova:\n",
        "01 - D\n",
        "02 - A\n",
        "03 - C\n",
        "04 - B\n",
        "05 - A\n",
        "06 - D\n",
        "07 - C\n",
        "08 - C\n",
        "09 - A\n",
        "10 - B\n",
        "```"
      ],
      "metadata": {
        "id": "t5OrLxV6MgeE"
      }
    },
    {
      "cell_type": "code",
      "source": [
        "nota = 0\n",
        "gabarito = ['D','A','C','B','A','D','C','C','A','B']\n",
        "respostas = []\n",
        "for i in range(0,10):\n",
        "  resp = input(f\"Informe a resposta da questao {i}: \")\n",
        "  respostas.append(resp)\n",
        "\n",
        "for j in range(0,10):\n",
        "  if respostas[i] == gabarito[i]:\n",
        "    nota+=1\n",
        "\n",
        "\n",
        "print(f\"Sua nota foi de {nota}\")"
      ],
      "metadata": {
        "id": "ytIQDJrQMgeE",
        "colab": {
          "base_uri": "https://localhost:8080/"
        },
        "outputId": "2141cb94-0cca-472d-8b82-e68c30602ddb"
      },
      "execution_count": null,
      "outputs": [
        {
          "output_type": "stream",
          "name": "stdout",
          "text": [
            "Informe a resposta da questao 0: A\n",
            "Informe a resposta da questao 1: B\n",
            "Informe a resposta da questao 2: D\n",
            "Informe a resposta da questao 3: C\n",
            "Informe a resposta da questao 4: A\n",
            "Informe a resposta da questao 5: B\n",
            "Informe a resposta da questao 6: A\n",
            "Informe a resposta da questao 7: C\n",
            "Informe a resposta da questao 8: C\n",
            "Informe a resposta da questao 9: A\n",
            "Sua nota foi de 0\n"
          ]
        }
      ]
    },
    {
      "cell_type": "markdown",
      "source": [
        "#### Questão 10\n",
        "Um instituto de meteorologia deseja fazer um estudo de temperatura média de cada mês do ano. Para isso, você precisa fazer um código que colete e armazene essas temperaturas médias em uma lista. Depois, calcule a média anual das temperaturas e mostre todas as temperaturas acima da média anual, e em que mês elas ocorreram, mostrando os meses por extenso: Janeiro, Fevereiro, etc."
      ],
      "metadata": {
        "id": "aSBMzh-AMgeF"
      }
    },
    {
      "cell_type": "code",
      "source": [],
      "metadata": {
        "id": "ftj04s2uMgeF"
      },
      "execution_count": null,
      "outputs": []
    },
    {
      "cell_type": "markdown",
      "source": [
        "#### Questão 11\n",
        "Uma empresa de e-commerce está interessada em analisar as vendas dos seus produtos. Os dados das vendas foram armazenados em um dicionário:\n",
        "```\n",
        "{'Produto A': 300, 'Produto B': 80, 'Produto C': 60,\n",
        " 'Produto D': 200, 'Produto E': 250, 'Produto F': 30}\n",
        "```\n",
        "Escreva um código que calcule o total de vendas e o produto mais vendido."
      ],
      "metadata": {
        "id": "0X8S6s4jMgeF"
      }
    },
    {
      "cell_type": "code",
      "source": [],
      "metadata": {
        "id": "Xa3DJLtFMgeF"
      },
      "execution_count": null,
      "outputs": []
    },
    {
      "cell_type": "markdown",
      "source": [
        "#### Questão 12\n",
        "Uma pesquisa de mercado foi feita para decidir qual design de uma marca infantil mais agrada crianças. A pesquisa foi feita e o votos computados podem ser observados abaixo:\n",
        "```\n",
        "'''\n",
        "Tabela de votos da marca\n",
        "Design 1 - 1334 votos\n",
        "Design 2 - 982 votos\n",
        "Design 3 - 1751 votos\n",
        "Design 4 - 210 votos\n",
        "Design 5 - 1811 votos\n",
        "'''\n",
        "```\n",
        "Adapte os dados fornecidos a você para uma estrutura de dicionário e a partir dele, informe o design vencedor e a porcentagem de votos recebidos.\n"
      ],
      "metadata": {
        "id": "nrEwf_1ZMgeF"
      }
    },
    {
      "cell_type": "code",
      "source": [],
      "metadata": {
        "id": "MRPcGR-_MgeF"
      },
      "execution_count": null,
      "outputs": []
    },
    {
      "cell_type": "markdown",
      "source": [
        "#### Questão 13\n",
        "Os funcionários de um setor da empresa que você trabalha vão receber um abono correspondente a 10% do seu salário devido ao ótimo desempenho do time. O setor financeiro solicitou sua ajuda para a verificação das consequências financeiras que esse abono irá gerar nos recursos. Assim, foi encaminhada para você uma lista com os salários que receberão o abono: `[1172, 1644, 2617, 5130, 5532, 6341, 6650, 7238, 7685, 7782, 7903]`. O abono de cada funcionário não pode ser inferior a 200. Em código, transforme cada um dos salários em chaves de um dicionário e o abono de cada salário no elemento. Depois, informe o total de gastos com o abono, quantos funcionários receberam o abono mínimo e qual o maior valor de abono fornecido.\n"
      ],
      "metadata": {
        "id": "HRTFFzKIMgeF"
      }
    },
    {
      "cell_type": "code",
      "source": [],
      "metadata": {
        "id": "QsDSCua42bLB"
      },
      "execution_count": null,
      "outputs": []
    },
    {
      "cell_type": "markdown",
      "source": [
        "#### Questão 14\n",
        "Uma equipe de cientistas de dados está estudando a diversidade biológica em uma floresta. A equipe fez a coleta de informações sobre o número de espécies de plantas e animais em cada área da floresta e armazenaram essas informações em um dicionário. Nele, a chave descreve a área dos dados e os valores nas listas correspondem às espécies de plantas e animais nas áreas, respectivamente.\n",
        "```\n",
        "{'Área Norte': [2819, 7236],\n",
        " 'Área Leste': [1440, 9492],\n",
        " 'Área Sul': [5969, 7496],\n",
        " 'Área Oeste': [14446, 49688],\n",
        " 'Área Centro': [22558, 45148]}\n",
        "```\n",
        "Escreva um código para calcular a média de espécies por área e identificar a área com a maior diversidade biológica. Dica: use as funções built-in [`sum()`](https://docs.python.org/3/library/functions.html#sum) e [`len()`](https://docs.python.org/3/library/functions.html#len).\n"
      ],
      "metadata": {
        "id": "6dEXZEwjMlWy"
      }
    },
    {
      "cell_type": "code",
      "source": [],
      "metadata": {
        "id": "eQnOUDfYMlWy"
      },
      "execution_count": null,
      "outputs": []
    },
    {
      "cell_type": "markdown",
      "source": [
        "#### Questão 15\n",
        "O setor de RH da sua empresa te pediu uma ajuda para analisar as idades dos funcionários de 4 setores da empresa. Para isso, ele te forneceu os seguintes dados:\n",
        "```\n",
        "{'Setor A': [22, 26, 30, 30, 35, 38, 40, 56, 57, 65],\n",
        " 'Setor B': [22, 24, 26, 33, 41, 49, 50, 54, 60, 64],\n",
        " 'Setor C': [23, 26, 26, 29, 34, 35, 36, 41, 52, 56],\n",
        " 'Setor D': [19, 20, 25, 27, 34, 39, 42, 44, 50, 65]}\n",
        "```\n",
        "Sabendo que cada setor tem 10 funcionários, construa um código que calcule a média de idade de cada setor, a idade média geral entre todos os setores e quantas pessoas estão acima da idade média geral.\n"
      ],
      "metadata": {
        "id": "r0RW2Sy_MlWy"
      }
    },
    {
      "cell_type": "code",
      "source": [],
      "metadata": {
        "id": "wCiwyKP3MmTz"
      },
      "execution_count": null,
      "outputs": []
    },
    {
      "cell_type": "code",
      "source": [
        "from google.colab import drive\n",
        "drive.mount('/content/drive')"
      ],
      "metadata": {
        "id": "ISMTH3N7tgbL"
      },
      "execution_count": null,
      "outputs": []
    }
  ]
}